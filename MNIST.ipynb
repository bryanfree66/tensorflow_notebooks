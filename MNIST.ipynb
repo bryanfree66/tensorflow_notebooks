{
  "nbformat": 4,
  "nbformat_minor": 0,
  "metadata": {
    "colab": {
      "name": "MNIST.ipynb",
      "provenance": [],
      "collapsed_sections": [],
      "authorship_tag": "ABX9TyM3kK9/8e7V32+y2rFNNbaF",
      "include_colab_link": true
    },
    "kernelspec": {
      "name": "python3",
      "display_name": "Python 3"
    }
  },
  "cells": [
    {
      "cell_type": "markdown",
      "metadata": {
        "id": "view-in-github",
        "colab_type": "text"
      },
      "source": [
        "<a href=\"https://colab.research.google.com/github/bryanfree66/tensorflow_notebooks/blob/master/MNIST.ipynb\" target=\"_parent\"><img src=\"https://colab.research.google.com/assets/colab-badge.svg\" alt=\"Open In Colab\"/></a>"
      ]
    },
    {
      "cell_type": "markdown",
      "metadata": {
        "id": "qtVzXvHjbR_u",
        "colab_type": "text"
      },
      "source": [
        "# MNIST Sample"
      ]
    },
    {
      "cell_type": "code",
      "metadata": {
        "id": "Cun_PuhiZtoP",
        "colab_type": "code",
        "colab": {}
      },
      "source": [
        "import tensorflow as tf\n",
        "import numpy as np\n",
        "from tensorflow import keras"
      ],
      "execution_count": 0,
      "outputs": []
    },
    {
      "cell_type": "markdown",
      "metadata": {
        "id": "OaMsXJJkbAOt",
        "colab_type": "text"
      },
      "source": [
        "## Load the Data "
      ]
    },
    {
      "cell_type": "code",
      "metadata": {
        "id": "Y7Jk4Jx6aqFm",
        "colab_type": "code",
        "colab": {}
      },
      "source": [
        "EPOCHS = 100\n",
        "BATCH_SIZE = 128\n",
        "VERBOSE = 1\n",
        "NB_CLASSES = 10\n",
        "N_HIDDEN = 128\n",
        "VALIDATION_SPLIT = 0.2\n",
        "RESHAPED = 784\n",
        "DROPOUT = 0.3"
      ],
      "execution_count": 0,
      "outputs": []
    },
    {
      "cell_type": "code",
      "metadata": {
        "id": "YDmN1SK26wDc",
        "colab_type": "code",
        "colab": {}
      },
      "source": [
        "mnist = keras.datasets.mnist\n",
        "(X_train, Y_train), (X_test, Y_test) = mnist.load_data()"
      ],
      "execution_count": 0,
      "outputs": []
    },
    {
      "cell_type": "code",
      "metadata": {
        "id": "YGW5R5Vjb_0Y",
        "colab_type": "code",
        "outputId": "210f0d41-17b5-4cec-e0f8-370d11c6c97f",
        "colab": {
          "base_uri": "https://localhost:8080/",
          "height": 51
        }
      },
      "source": [
        "X_train = X_train.reshape(60000, RESHAPED)\n",
        "X_test = X_test.reshape(10000, RESHAPED)\n",
        "X_train = X_train.astype('float32')\n",
        "X_test = X_test.astype('float32')\n",
        "X_train, X_test = X_train / 255.0, X_test / 255.0\n",
        "print('X_train shape: {}'.format(X_train.shape[0]))\n",
        "print('X_test shape: {}'.format(X_test.shape[0]))\n"
      ],
      "execution_count": 4,
      "outputs": [
        {
          "output_type": "stream",
          "text": [
            "X_train shape: 60000\n",
            "X_test shape: 10000\n"
          ],
          "name": "stdout"
        }
      ]
    },
    {
      "cell_type": "code",
      "metadata": {
        "id": "wbLYuA7Jdhrv",
        "colab_type": "code",
        "colab": {}
      },
      "source": [
        "Y_train = tf.keras.utils.to_categorical(Y_train, NB_CLASSES)\n",
        "Y_test = tf.keras.utils.to_categorical(Y_test, NB_CLASSES)"
      ],
      "execution_count": 0,
      "outputs": []
    },
    {
      "cell_type": "markdown",
      "metadata": {
        "id": "MySS3EWOxnbe",
        "colab_type": "text"
      },
      "source": [
        "## Build the Model"
      ]
    },
    {
      "cell_type": "code",
      "metadata": {
        "id": "S1xfuPZLxrG-",
        "colab_type": "code",
        "colab": {}
      },
      "source": [
        "model = tf.keras.models.Sequential()\n",
        "model.add(keras.layers.Dense(N_HIDDEN, \n",
        "                             input_shape=(RESHAPED,),\n",
        "                             name='dense_layer_1',\n",
        "                             activation='relu'))\n",
        "model.add(keras.layers.Dropout(DROPOUT,\n",
        "                               name='dropout_1'))\n",
        "model.add(keras.layers.Dense(N_HIDDEN,\n",
        "                             name='dense_layer_2',\n",
        "                             activation='relu'))\n",
        "model.add(keras.layers.Dropout(DROPOUT,\n",
        "                               name='dropout_2'))\n",
        "model.add(keras.layers.Dense(NB_CLASSES,\n",
        "                             name='dense_layer_3',\n",
        "                             activation='softmax'))"
      ],
      "execution_count": 0,
      "outputs": []
    },
    {
      "cell_type": "code",
      "metadata": {
        "id": "iuDewmBA2wEj",
        "colab_type": "code",
        "outputId": "cf2f138f-8914-4968-f514-e666d54ac460",
        "colab": {
          "base_uri": "https://localhost:8080/",
          "height": 323
        }
      },
      "source": [
        "model.summary()"
      ],
      "execution_count": 7,
      "outputs": [
        {
          "output_type": "stream",
          "text": [
            "Model: \"sequential\"\n",
            "_________________________________________________________________\n",
            "Layer (type)                 Output Shape              Param #   \n",
            "=================================================================\n",
            "dense_layer_1 (Dense)        (None, 128)               100480    \n",
            "_________________________________________________________________\n",
            "dropout_1 (Dropout)          (None, 128)               0         \n",
            "_________________________________________________________________\n",
            "dense_layer_2 (Dense)        (None, 128)               16512     \n",
            "_________________________________________________________________\n",
            "dropout_2 (Dropout)          (None, 128)               0         \n",
            "_________________________________________________________________\n",
            "dense_layer_3 (Dense)        (None, 10)                1290      \n",
            "=================================================================\n",
            "Total params: 118,282\n",
            "Trainable params: 118,282\n",
            "Non-trainable params: 0\n",
            "_________________________________________________________________\n"
          ],
          "name": "stdout"
        }
      ]
    },
    {
      "cell_type": "code",
      "metadata": {
        "id": "xTsHjREt2zXa",
        "colab_type": "code",
        "colab": {}
      },
      "source": [
        "model.compile(optimizer='Adam',\n",
        "              loss='categorical_crossentropy',\n",
        "              metrics=['accuracy'])"
      ],
      "execution_count": 0,
      "outputs": []
    },
    {
      "cell_type": "markdown",
      "metadata": {
        "id": "rtJ8J5YN2fOV",
        "colab_type": "text"
      },
      "source": [
        "## Train the Model"
      ]
    },
    {
      "cell_type": "code",
      "metadata": {
        "id": "TVmwJzq62i7Q",
        "colab_type": "code",
        "outputId": "10584c7f-50d0-44e6-f366-570123a6a907",
        "colab": {
          "base_uri": "https://localhost:8080/",
          "height": 1000
        }
      },
      "source": [
        "model.fit(X_train, Y_train,\n",
        "          batch_size=BATCH_SIZE,\n",
        "          epochs=EPOCHS,\n",
        "          verbose=VERBOSE,\n",
        "          validation_split=VALIDATION_SPLIT)"
      ],
      "execution_count": 9,
      "outputs": [
        {
          "output_type": "stream",
          "text": [
            "Epoch 1/100\n",
            "375/375 [==============================] - 2s 5ms/step - loss: 0.5081 - accuracy: 0.8443 - val_loss: 0.1850 - val_accuracy: 0.9465\n",
            "Epoch 2/100\n",
            "375/375 [==============================] - 2s 4ms/step - loss: 0.2292 - accuracy: 0.9331 - val_loss: 0.1355 - val_accuracy: 0.9603\n",
            "Epoch 3/100\n",
            "375/375 [==============================] - 2s 5ms/step - loss: 0.1798 - accuracy: 0.9464 - val_loss: 0.1148 - val_accuracy: 0.9660\n",
            "Epoch 4/100\n",
            "375/375 [==============================] - 2s 5ms/step - loss: 0.1494 - accuracy: 0.9551 - val_loss: 0.1017 - val_accuracy: 0.9704\n",
            "Epoch 5/100\n",
            "375/375 [==============================] - 2s 4ms/step - loss: 0.1267 - accuracy: 0.9620 - val_loss: 0.0938 - val_accuracy: 0.9716\n",
            "Epoch 6/100\n",
            "375/375 [==============================] - 2s 4ms/step - loss: 0.1139 - accuracy: 0.9650 - val_loss: 0.0939 - val_accuracy: 0.9718\n",
            "Epoch 7/100\n",
            "375/375 [==============================] - 2s 4ms/step - loss: 0.1044 - accuracy: 0.9677 - val_loss: 0.0907 - val_accuracy: 0.9744\n",
            "Epoch 8/100\n",
            "375/375 [==============================] - 2s 4ms/step - loss: 0.0951 - accuracy: 0.9704 - val_loss: 0.0854 - val_accuracy: 0.9753\n",
            "Epoch 9/100\n",
            "375/375 [==============================] - 2s 4ms/step - loss: 0.0884 - accuracy: 0.9718 - val_loss: 0.0874 - val_accuracy: 0.9749\n",
            "Epoch 10/100\n",
            "375/375 [==============================] - 2s 4ms/step - loss: 0.0834 - accuracy: 0.9736 - val_loss: 0.0813 - val_accuracy: 0.9766\n",
            "Epoch 11/100\n",
            "375/375 [==============================] - 2s 4ms/step - loss: 0.0753 - accuracy: 0.9763 - val_loss: 0.0857 - val_accuracy: 0.9760\n",
            "Epoch 12/100\n",
            "375/375 [==============================] - 2s 4ms/step - loss: 0.0743 - accuracy: 0.9766 - val_loss: 0.0849 - val_accuracy: 0.9769\n",
            "Epoch 13/100\n",
            "375/375 [==============================] - 2s 4ms/step - loss: 0.0726 - accuracy: 0.9768 - val_loss: 0.0870 - val_accuracy: 0.9769\n",
            "Epoch 14/100\n",
            "375/375 [==============================] - 2s 4ms/step - loss: 0.0667 - accuracy: 0.9781 - val_loss: 0.0819 - val_accuracy: 0.9770\n",
            "Epoch 15/100\n",
            "375/375 [==============================] - 2s 4ms/step - loss: 0.0630 - accuracy: 0.9796 - val_loss: 0.0853 - val_accuracy: 0.9762\n",
            "Epoch 16/100\n",
            "375/375 [==============================] - 2s 4ms/step - loss: 0.0639 - accuracy: 0.9792 - val_loss: 0.0836 - val_accuracy: 0.9762\n",
            "Epoch 17/100\n",
            "375/375 [==============================] - 2s 4ms/step - loss: 0.0554 - accuracy: 0.9815 - val_loss: 0.0864 - val_accuracy: 0.9778\n",
            "Epoch 18/100\n",
            "375/375 [==============================] - 2s 4ms/step - loss: 0.0564 - accuracy: 0.9812 - val_loss: 0.0871 - val_accuracy: 0.9768\n",
            "Epoch 19/100\n",
            "375/375 [==============================] - 2s 4ms/step - loss: 0.0528 - accuracy: 0.9833 - val_loss: 0.0893 - val_accuracy: 0.9768\n",
            "Epoch 20/100\n",
            "375/375 [==============================] - 2s 4ms/step - loss: 0.0543 - accuracy: 0.9819 - val_loss: 0.0917 - val_accuracy: 0.9761\n",
            "Epoch 21/100\n",
            "375/375 [==============================] - 2s 4ms/step - loss: 0.0531 - accuracy: 0.9824 - val_loss: 0.0876 - val_accuracy: 0.9776\n",
            "Epoch 22/100\n",
            "375/375 [==============================] - 2s 4ms/step - loss: 0.0518 - accuracy: 0.9829 - val_loss: 0.0836 - val_accuracy: 0.9783\n",
            "Epoch 23/100\n",
            "375/375 [==============================] - 2s 4ms/step - loss: 0.0489 - accuracy: 0.9832 - val_loss: 0.0819 - val_accuracy: 0.9783\n",
            "Epoch 24/100\n",
            "375/375 [==============================] - 2s 4ms/step - loss: 0.0496 - accuracy: 0.9833 - val_loss: 0.0839 - val_accuracy: 0.9784\n",
            "Epoch 25/100\n",
            "375/375 [==============================] - 2s 4ms/step - loss: 0.0456 - accuracy: 0.9847 - val_loss: 0.0870 - val_accuracy: 0.9788\n",
            "Epoch 26/100\n",
            "375/375 [==============================] - 2s 4ms/step - loss: 0.0463 - accuracy: 0.9845 - val_loss: 0.0854 - val_accuracy: 0.9778\n",
            "Epoch 27/100\n",
            "375/375 [==============================] - 2s 4ms/step - loss: 0.0436 - accuracy: 0.9858 - val_loss: 0.0858 - val_accuracy: 0.9778\n",
            "Epoch 28/100\n",
            "375/375 [==============================] - 2s 4ms/step - loss: 0.0446 - accuracy: 0.9855 - val_loss: 0.0811 - val_accuracy: 0.9791\n",
            "Epoch 29/100\n",
            "375/375 [==============================] - 2s 4ms/step - loss: 0.0419 - accuracy: 0.9861 - val_loss: 0.0866 - val_accuracy: 0.9786\n",
            "Epoch 30/100\n",
            "375/375 [==============================] - 2s 4ms/step - loss: 0.0424 - accuracy: 0.9856 - val_loss: 0.0887 - val_accuracy: 0.9791\n",
            "Epoch 31/100\n",
            "375/375 [==============================] - 2s 4ms/step - loss: 0.0411 - accuracy: 0.9864 - val_loss: 0.0860 - val_accuracy: 0.9787\n",
            "Epoch 32/100\n",
            "375/375 [==============================] - 2s 4ms/step - loss: 0.0377 - accuracy: 0.9879 - val_loss: 0.0913 - val_accuracy: 0.9778\n",
            "Epoch 33/100\n",
            "375/375 [==============================] - 2s 4ms/step - loss: 0.0393 - accuracy: 0.9866 - val_loss: 0.0883 - val_accuracy: 0.9787\n",
            "Epoch 34/100\n",
            "375/375 [==============================] - 2s 4ms/step - loss: 0.0389 - accuracy: 0.9865 - val_loss: 0.0892 - val_accuracy: 0.9786\n",
            "Epoch 35/100\n",
            "375/375 [==============================] - 2s 4ms/step - loss: 0.0389 - accuracy: 0.9872 - val_loss: 0.0931 - val_accuracy: 0.9777\n",
            "Epoch 36/100\n",
            "375/375 [==============================] - 2s 4ms/step - loss: 0.0373 - accuracy: 0.9874 - val_loss: 0.0883 - val_accuracy: 0.9776\n",
            "Epoch 37/100\n",
            "375/375 [==============================] - 2s 4ms/step - loss: 0.0394 - accuracy: 0.9864 - val_loss: 0.0924 - val_accuracy: 0.9778\n",
            "Epoch 38/100\n",
            "375/375 [==============================] - 2s 4ms/step - loss: 0.0364 - accuracy: 0.9876 - val_loss: 0.0885 - val_accuracy: 0.9787\n",
            "Epoch 39/100\n",
            "375/375 [==============================] - 2s 4ms/step - loss: 0.0348 - accuracy: 0.9885 - val_loss: 0.0941 - val_accuracy: 0.9783\n",
            "Epoch 40/100\n",
            "375/375 [==============================] - 2s 4ms/step - loss: 0.0359 - accuracy: 0.9885 - val_loss: 0.0991 - val_accuracy: 0.9781\n",
            "Epoch 41/100\n",
            "375/375 [==============================] - 2s 4ms/step - loss: 0.0371 - accuracy: 0.9877 - val_loss: 0.0951 - val_accuracy: 0.9782\n",
            "Epoch 42/100\n",
            "375/375 [==============================] - 2s 4ms/step - loss: 0.0335 - accuracy: 0.9887 - val_loss: 0.0875 - val_accuracy: 0.9796\n",
            "Epoch 43/100\n",
            "375/375 [==============================] - 2s 4ms/step - loss: 0.0348 - accuracy: 0.9884 - val_loss: 0.0913 - val_accuracy: 0.9788\n",
            "Epoch 44/100\n",
            "375/375 [==============================] - 2s 4ms/step - loss: 0.0303 - accuracy: 0.9899 - val_loss: 0.0924 - val_accuracy: 0.9787\n",
            "Epoch 45/100\n",
            "375/375 [==============================] - 2s 4ms/step - loss: 0.0327 - accuracy: 0.9889 - val_loss: 0.0942 - val_accuracy: 0.9790\n",
            "Epoch 46/100\n",
            "375/375 [==============================] - 2s 4ms/step - loss: 0.0305 - accuracy: 0.9899 - val_loss: 0.0991 - val_accuracy: 0.9782\n",
            "Epoch 47/100\n",
            "375/375 [==============================] - 2s 4ms/step - loss: 0.0335 - accuracy: 0.9890 - val_loss: 0.0974 - val_accuracy: 0.9791\n",
            "Epoch 48/100\n",
            "375/375 [==============================] - 2s 4ms/step - loss: 0.0314 - accuracy: 0.9897 - val_loss: 0.1002 - val_accuracy: 0.9793\n",
            "Epoch 49/100\n",
            "375/375 [==============================] - 2s 4ms/step - loss: 0.0320 - accuracy: 0.9898 - val_loss: 0.0956 - val_accuracy: 0.9797\n",
            "Epoch 50/100\n",
            "375/375 [==============================] - 2s 4ms/step - loss: 0.0331 - accuracy: 0.9887 - val_loss: 0.0984 - val_accuracy: 0.9772\n",
            "Epoch 51/100\n",
            "375/375 [==============================] - 2s 4ms/step - loss: 0.0298 - accuracy: 0.9898 - val_loss: 0.1006 - val_accuracy: 0.9783\n",
            "Epoch 52/100\n",
            "375/375 [==============================] - 2s 4ms/step - loss: 0.0306 - accuracy: 0.9900 - val_loss: 0.1013 - val_accuracy: 0.9786\n",
            "Epoch 53/100\n",
            "375/375 [==============================] - 2s 4ms/step - loss: 0.0312 - accuracy: 0.9896 - val_loss: 0.0989 - val_accuracy: 0.9780\n",
            "Epoch 54/100\n",
            "375/375 [==============================] - 2s 4ms/step - loss: 0.0293 - accuracy: 0.9906 - val_loss: 0.1000 - val_accuracy: 0.9782\n",
            "Epoch 55/100\n",
            "375/375 [==============================] - 2s 4ms/step - loss: 0.0293 - accuracy: 0.9901 - val_loss: 0.1024 - val_accuracy: 0.9787\n",
            "Epoch 56/100\n",
            "375/375 [==============================] - 2s 4ms/step - loss: 0.0289 - accuracy: 0.9907 - val_loss: 0.1001 - val_accuracy: 0.9786\n",
            "Epoch 57/100\n",
            "375/375 [==============================] - 2s 4ms/step - loss: 0.0298 - accuracy: 0.9897 - val_loss: 0.0985 - val_accuracy: 0.9776\n",
            "Epoch 58/100\n",
            "375/375 [==============================] - 2s 4ms/step - loss: 0.0290 - accuracy: 0.9896 - val_loss: 0.1033 - val_accuracy: 0.9790\n",
            "Epoch 59/100\n",
            "375/375 [==============================] - 2s 4ms/step - loss: 0.0291 - accuracy: 0.9899 - val_loss: 0.0977 - val_accuracy: 0.9799\n",
            "Epoch 60/100\n",
            "375/375 [==============================] - 2s 4ms/step - loss: 0.0290 - accuracy: 0.9906 - val_loss: 0.1064 - val_accuracy: 0.9783\n",
            "Epoch 61/100\n",
            "375/375 [==============================] - 2s 4ms/step - loss: 0.0283 - accuracy: 0.9904 - val_loss: 0.0997 - val_accuracy: 0.9781\n",
            "Epoch 62/100\n",
            "375/375 [==============================] - 2s 4ms/step - loss: 0.0286 - accuracy: 0.9902 - val_loss: 0.1028 - val_accuracy: 0.9800\n",
            "Epoch 63/100\n",
            "375/375 [==============================] - 2s 4ms/step - loss: 0.0297 - accuracy: 0.9905 - val_loss: 0.1011 - val_accuracy: 0.9772\n",
            "Epoch 64/100\n",
            "375/375 [==============================] - 2s 4ms/step - loss: 0.0270 - accuracy: 0.9909 - val_loss: 0.0947 - val_accuracy: 0.9790\n",
            "Epoch 65/100\n",
            "375/375 [==============================] - 2s 4ms/step - loss: 0.0259 - accuracy: 0.9911 - val_loss: 0.1004 - val_accuracy: 0.9790\n",
            "Epoch 66/100\n",
            "375/375 [==============================] - 2s 4ms/step - loss: 0.0294 - accuracy: 0.9903 - val_loss: 0.0933 - val_accuracy: 0.9804\n",
            "Epoch 67/100\n",
            "375/375 [==============================] - 2s 4ms/step - loss: 0.0253 - accuracy: 0.9920 - val_loss: 0.1014 - val_accuracy: 0.9788\n",
            "Epoch 68/100\n",
            "375/375 [==============================] - 2s 4ms/step - loss: 0.0290 - accuracy: 0.9906 - val_loss: 0.0975 - val_accuracy: 0.9808\n",
            "Epoch 69/100\n",
            "375/375 [==============================] - 2s 4ms/step - loss: 0.0282 - accuracy: 0.9910 - val_loss: 0.1005 - val_accuracy: 0.9787\n",
            "Epoch 70/100\n",
            "375/375 [==============================] - 2s 4ms/step - loss: 0.0273 - accuracy: 0.9913 - val_loss: 0.0998 - val_accuracy: 0.9791\n",
            "Epoch 71/100\n",
            "375/375 [==============================] - 2s 4ms/step - loss: 0.0249 - accuracy: 0.9919 - val_loss: 0.0997 - val_accuracy: 0.9784\n",
            "Epoch 72/100\n",
            "375/375 [==============================] - 2s 4ms/step - loss: 0.0251 - accuracy: 0.9921 - val_loss: 0.1047 - val_accuracy: 0.9787\n",
            "Epoch 73/100\n",
            "375/375 [==============================] - 2s 4ms/step - loss: 0.0267 - accuracy: 0.9911 - val_loss: 0.1000 - val_accuracy: 0.9787\n",
            "Epoch 74/100\n",
            "375/375 [==============================] - 2s 5ms/step - loss: 0.0278 - accuracy: 0.9909 - val_loss: 0.0980 - val_accuracy: 0.9786\n",
            "Epoch 75/100\n",
            "375/375 [==============================] - 2s 5ms/step - loss: 0.0264 - accuracy: 0.9915 - val_loss: 0.1054 - val_accuracy: 0.9783\n",
            "Epoch 76/100\n",
            "375/375 [==============================] - 2s 5ms/step - loss: 0.0255 - accuracy: 0.9919 - val_loss: 0.0987 - val_accuracy: 0.9804\n",
            "Epoch 77/100\n",
            "375/375 [==============================] - 2s 5ms/step - loss: 0.0241 - accuracy: 0.9920 - val_loss: 0.1038 - val_accuracy: 0.9793\n",
            "Epoch 78/100\n",
            "375/375 [==============================] - 2s 4ms/step - loss: 0.0258 - accuracy: 0.9911 - val_loss: 0.1077 - val_accuracy: 0.9793\n",
            "Epoch 79/100\n",
            "375/375 [==============================] - 2s 4ms/step - loss: 0.0243 - accuracy: 0.9922 - val_loss: 0.1037 - val_accuracy: 0.9791\n",
            "Epoch 80/100\n",
            "375/375 [==============================] - 2s 4ms/step - loss: 0.0268 - accuracy: 0.9914 - val_loss: 0.1069 - val_accuracy: 0.9775\n",
            "Epoch 81/100\n",
            "375/375 [==============================] - 2s 4ms/step - loss: 0.0233 - accuracy: 0.9923 - val_loss: 0.1051 - val_accuracy: 0.9796\n",
            "Epoch 82/100\n",
            "375/375 [==============================] - 2s 4ms/step - loss: 0.0260 - accuracy: 0.9920 - val_loss: 0.1088 - val_accuracy: 0.9773\n",
            "Epoch 83/100\n",
            "375/375 [==============================] - 2s 4ms/step - loss: 0.0235 - accuracy: 0.9924 - val_loss: 0.1019 - val_accuracy: 0.9787\n",
            "Epoch 84/100\n",
            "375/375 [==============================] - 2s 4ms/step - loss: 0.0258 - accuracy: 0.9913 - val_loss: 0.1073 - val_accuracy: 0.9781\n",
            "Epoch 85/100\n",
            "375/375 [==============================] - 2s 4ms/step - loss: 0.0235 - accuracy: 0.9919 - val_loss: 0.1069 - val_accuracy: 0.9791\n",
            "Epoch 86/100\n",
            "375/375 [==============================] - 2s 4ms/step - loss: 0.0245 - accuracy: 0.9920 - val_loss: 0.1093 - val_accuracy: 0.9787\n",
            "Epoch 87/100\n",
            "375/375 [==============================] - 2s 4ms/step - loss: 0.0245 - accuracy: 0.9920 - val_loss: 0.1046 - val_accuracy: 0.9794\n",
            "Epoch 88/100\n",
            "375/375 [==============================] - 2s 4ms/step - loss: 0.0234 - accuracy: 0.9926 - val_loss: 0.1068 - val_accuracy: 0.9787\n",
            "Epoch 89/100\n",
            "375/375 [==============================] - 2s 4ms/step - loss: 0.0247 - accuracy: 0.9925 - val_loss: 0.1002 - val_accuracy: 0.9787\n",
            "Epoch 90/100\n",
            "375/375 [==============================] - 2s 4ms/step - loss: 0.0226 - accuracy: 0.9928 - val_loss: 0.1078 - val_accuracy: 0.9793\n",
            "Epoch 91/100\n",
            "375/375 [==============================] - 2s 4ms/step - loss: 0.0219 - accuracy: 0.9929 - val_loss: 0.1089 - val_accuracy: 0.9779\n",
            "Epoch 92/100\n",
            "375/375 [==============================] - 2s 4ms/step - loss: 0.0224 - accuracy: 0.9929 - val_loss: 0.1055 - val_accuracy: 0.9793\n",
            "Epoch 93/100\n",
            "375/375 [==============================] - 2s 4ms/step - loss: 0.0227 - accuracy: 0.9925 - val_loss: 0.1076 - val_accuracy: 0.9776\n",
            "Epoch 94/100\n",
            "375/375 [==============================] - 2s 4ms/step - loss: 0.0245 - accuracy: 0.9917 - val_loss: 0.1004 - val_accuracy: 0.9795\n",
            "Epoch 95/100\n",
            "375/375 [==============================] - 2s 4ms/step - loss: 0.0244 - accuracy: 0.9918 - val_loss: 0.1077 - val_accuracy: 0.9778\n",
            "Epoch 96/100\n",
            "375/375 [==============================] - 2s 4ms/step - loss: 0.0247 - accuracy: 0.9914 - val_loss: 0.1044 - val_accuracy: 0.9789\n",
            "Epoch 97/100\n",
            "375/375 [==============================] - 2s 4ms/step - loss: 0.0245 - accuracy: 0.9922 - val_loss: 0.1142 - val_accuracy: 0.9783\n",
            "Epoch 98/100\n",
            "375/375 [==============================] - 2s 4ms/step - loss: 0.0203 - accuracy: 0.9933 - val_loss: 0.1080 - val_accuracy: 0.9784\n",
            "Epoch 99/100\n",
            "375/375 [==============================] - 2s 4ms/step - loss: 0.0215 - accuracy: 0.9929 - val_loss: 0.1119 - val_accuracy: 0.9791\n",
            "Epoch 100/100\n",
            "375/375 [==============================] - 2s 4ms/step - loss: 0.0232 - accuracy: 0.9923 - val_loss: 0.1088 - val_accuracy: 0.9787\n"
          ],
          "name": "stdout"
        },
        {
          "output_type": "execute_result",
          "data": {
            "text/plain": [
              "<tensorflow.python.keras.callbacks.History at 0x7f52de72ada0>"
            ]
          },
          "metadata": {
            "tags": []
          },
          "execution_count": 9
        }
      ]
    },
    {
      "cell_type": "markdown",
      "metadata": {
        "id": "_kCDS3vE7vqk",
        "colab_type": "text"
      },
      "source": [
        "## Evaluate the Model"
      ]
    },
    {
      "cell_type": "code",
      "metadata": {
        "id": "h2PeKzo27y6s",
        "colab_type": "code",
        "outputId": "26653e09-c01a-4a31-cbc1-4a8227b04c0a",
        "colab": {
          "base_uri": "https://localhost:8080/",
          "height": 51
        }
      },
      "source": [
        "test_loss, test_acc = model.evaluate(X_test, Y_test)\n",
        "print('Test Accuracy: {}'.format(test_acc))"
      ],
      "execution_count": 10,
      "outputs": [
        {
          "output_type": "stream",
          "text": [
            "313/313 [==============================] - 0s 1ms/step - loss: 0.1004 - accuracy: 0.9809\n",
            "Test Accuracy: 0.98089998960495\n"
          ],
          "name": "stdout"
        }
      ]
    }
  ]
}