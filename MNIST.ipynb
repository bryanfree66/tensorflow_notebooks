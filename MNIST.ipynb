{
  "nbformat": 4,
  "nbformat_minor": 0,
  "metadata": {
    "colab": {
      "name": "MNIST.ipynb",
      "provenance": [],
      "collapsed_sections": [],
      "authorship_tag": "ABX9TyNUgky3CsITH2/onl59rV7e",
      "include_colab_link": true
    },
    "kernelspec": {
      "name": "python3",
      "display_name": "Python 3"
    }
  },
  "cells": [
    {
      "cell_type": "markdown",
      "metadata": {
        "id": "view-in-github",
        "colab_type": "text"
      },
      "source": [
        "<a href=\"https://colab.research.google.com/github/bryanfree66/tensorflow_notebooks/blob/master/MNIST.ipynb\" target=\"_parent\"><img src=\"https://colab.research.google.com/assets/colab-badge.svg\" alt=\"Open In Colab\"/></a>"
      ]
    },
    {
      "cell_type": "markdown",
      "metadata": {
        "id": "qtVzXvHjbR_u",
        "colab_type": "text"
      },
      "source": [
        "# MNIST Sample"
      ]
    },
    {
      "cell_type": "code",
      "metadata": {
        "id": "Cun_PuhiZtoP",
        "colab_type": "code",
        "colab": {}
      },
      "source": [
        "import tensorflow as tf\n",
        "import numpy as np\n",
        "from tensorflow import keras"
      ],
      "execution_count": 0,
      "outputs": []
    },
    {
      "cell_type": "markdown",
      "metadata": {
        "id": "OaMsXJJkbAOt",
        "colab_type": "text"
      },
      "source": [
        "## Load the Data "
      ]
    },
    {
      "cell_type": "code",
      "metadata": {
        "id": "Y7Jk4Jx6aqFm",
        "colab_type": "code",
        "colab": {}
      },
      "source": [
        "EPOCHS = 200\n",
        "BATCH_SIZE = 128\n",
        "VERBOSE = 1\n",
        "NB_CLASSES = 10\n",
        "N_HIDDEN = 128\n",
        "VALIDATION_SPLIT = 0.2\n",
        "RESHAPED = 784\n",
        "DROPOUT = 0.3"
      ],
      "execution_count": 0,
      "outputs": []
    },
    {
      "cell_type": "code",
      "metadata": {
        "id": "YDmN1SK26wDc",
        "colab_type": "code",
        "colab": {}
      },
      "source": [
        "mnist = keras.datasets.mnist\n",
        "(X_train, Y_train), (X_test, Y_test) = mnist.load_data()"
      ],
      "execution_count": 0,
      "outputs": []
    },
    {
      "cell_type": "code",
      "metadata": {
        "id": "WcdwEzCp7sOU",
        "colab_type": "code",
        "colab": {}
      },
      "source": [
        ""
      ],
      "execution_count": 0,
      "outputs": []
    },
    {
      "cell_type": "code",
      "metadata": {
        "id": "YGW5R5Vjb_0Y",
        "colab_type": "code",
        "outputId": "0ebf5e70-8011-41ed-9613-ea6c51c7b8a6",
        "colab": {
          "base_uri": "https://localhost:8080/",
          "height": 51
        }
      },
      "source": [
        "X_train = X_train.reshape(60000, RESHAPED)\n",
        "X_test = X_test.reshape(10000, RESHAPED)\n",
        "X_train = X_train.astype('float32')\n",
        "X_test = X_test.astype('float32')\n",
        "X_train /= 255\n",
        "X_test /= 255\n",
        "print('X_train shape: {}'.format(X_train.shape[0]))\n",
        "print('X_test shape: {}'.format(X_test.shape[0]))\n"
      ],
      "execution_count": 38,
      "outputs": [
        {
          "output_type": "stream",
          "text": [
            "X_train shape: 60000\n",
            "X_test shape: 10000\n"
          ],
          "name": "stdout"
        }
      ]
    },
    {
      "cell_type": "code",
      "metadata": {
        "id": "wbLYuA7Jdhrv",
        "colab_type": "code",
        "colab": {}
      },
      "source": [
        "Y_train = tf.keras.utils.to_categorical(Y_train, NB_CLASSES)\n",
        "Y_test = tf.keras.utils.to_categorical(Y_test, NB_CLASSES)"
      ],
      "execution_count": 0,
      "outputs": []
    },
    {
      "cell_type": "markdown",
      "metadata": {
        "id": "MySS3EWOxnbe",
        "colab_type": "text"
      },
      "source": [
        "## Build the Model"
      ]
    },
    {
      "cell_type": "code",
      "metadata": {
        "id": "S1xfuPZLxrG-",
        "colab_type": "code",
        "colab": {}
      },
      "source": [
        "model = tf.keras.models.Sequential()\n",
        "model.add(keras.layers.Dense(NB_CLASSES, \n",
        "                             input_shape=(RESHAPED,),\n",
        "                             name='dense_layer_1',\n",
        "                             activation='relu'))\n",
        "model.add(keras.layers.Dropout(DROPOUT))\n",
        "model.add(keras.layers.Dense(N_HIDDEN,\n",
        "                             name='dense_layer_2',\n",
        "                             activation='relu'))\n",
        "model.add(keras.layers.Dropout(DROPOUT))\n",
        "model.add(keras.layers.Dense(NB_CLASSES,\n",
        "                             name='dense_layer_3',\n",
        "                             activation='softmax'))"
      ],
      "execution_count": 0,
      "outputs": []
    },
    {
      "cell_type": "code",
      "metadata": {
        "id": "iuDewmBA2wEj",
        "colab_type": "code",
        "colab": {
          "base_uri": "https://localhost:8080/",
          "height": 323
        },
        "outputId": "b45140a9-202e-4784-f162-cb7025934987"
      },
      "source": [
        "model.summary()"
      ],
      "execution_count": 41,
      "outputs": [
        {
          "output_type": "stream",
          "text": [
            "Model: \"sequential_3\"\n",
            "_________________________________________________________________\n",
            "Layer (type)                 Output Shape              Param #   \n",
            "=================================================================\n",
            "dense_layer_1 (Dense)        (None, 10)                7850      \n",
            "_________________________________________________________________\n",
            "dropout_2 (Dropout)          (None, 10)                0         \n",
            "_________________________________________________________________\n",
            "dense_layer_2 (Dense)        (None, 128)               1408      \n",
            "_________________________________________________________________\n",
            "dropout_3 (Dropout)          (None, 128)               0         \n",
            "_________________________________________________________________\n",
            "dense_layer_3 (Dense)        (None, 10)                1290      \n",
            "=================================================================\n",
            "Total params: 10,548\n",
            "Trainable params: 10,548\n",
            "Non-trainable params: 0\n",
            "_________________________________________________________________\n"
          ],
          "name": "stdout"
        }
      ]
    },
    {
      "cell_type": "code",
      "metadata": {
        "id": "xTsHjREt2zXa",
        "colab_type": "code",
        "colab": {}
      },
      "source": [
        "model.compile(optimizer='SGD',\n",
        "              loss='categorical_crossentropy',\n",
        "              metrics=['accuracy'])"
      ],
      "execution_count": 0,
      "outputs": []
    },
    {
      "cell_type": "markdown",
      "metadata": {
        "id": "rtJ8J5YN2fOV",
        "colab_type": "text"
      },
      "source": [
        "## Train the Model"
      ]
    },
    {
      "cell_type": "code",
      "metadata": {
        "id": "TVmwJzq62i7Q",
        "colab_type": "code",
        "outputId": "724262ac-c0ad-45e6-f2c1-efdb12a28035",
        "colab": {
          "base_uri": "https://localhost:8080/",
          "height": 1000
        }
      },
      "source": [
        "model.fit(X_train, Y_train,\n",
        "          batch_size=BATCH_SIZE,\n",
        "          epochs=EPOCHS,\n",
        "          verbose=VERBOSE,\n",
        "          validation_split=VALIDATION_SPLIT)"
      ],
      "execution_count": 43,
      "outputs": [
        {
          "output_type": "stream",
          "text": [
            "Epoch 1/200\n",
            "375/375 [==============================] - 1s 3ms/step - loss: 2.2227 - accuracy: 0.1676 - val_loss: 2.0330 - val_accuracy: 0.3445\n",
            "Epoch 2/200\n",
            "375/375 [==============================] - 1s 3ms/step - loss: 1.9080 - accuracy: 0.3261 - val_loss: 1.4970 - val_accuracy: 0.6275\n",
            "Epoch 3/200\n",
            "375/375 [==============================] - 1s 3ms/step - loss: 1.5640 - accuracy: 0.4611 - val_loss: 1.1120 - val_accuracy: 0.7533\n",
            "Epoch 4/200\n",
            "375/375 [==============================] - 1s 3ms/step - loss: 1.3614 - accuracy: 0.5280 - val_loss: 0.9170 - val_accuracy: 0.7957\n",
            "Epoch 5/200\n",
            "375/375 [==============================] - 1s 3ms/step - loss: 1.2372 - accuracy: 0.5721 - val_loss: 0.7910 - val_accuracy: 0.8268\n",
            "Epoch 6/200\n",
            "375/375 [==============================] - 1s 3ms/step - loss: 1.1508 - accuracy: 0.6052 - val_loss: 0.7054 - val_accuracy: 0.8423\n",
            "Epoch 7/200\n",
            "375/375 [==============================] - 1s 3ms/step - loss: 1.0819 - accuracy: 0.6318 - val_loss: 0.6440 - val_accuracy: 0.8528\n",
            "Epoch 8/200\n",
            "375/375 [==============================] - 1s 3ms/step - loss: 1.0324 - accuracy: 0.6498 - val_loss: 0.6001 - val_accuracy: 0.8639\n",
            "Epoch 9/200\n",
            "375/375 [==============================] - 1s 3ms/step - loss: 0.9849 - accuracy: 0.6676 - val_loss: 0.5644 - val_accuracy: 0.8712\n",
            "Epoch 10/200\n",
            "375/375 [==============================] - 1s 3ms/step - loss: 0.9557 - accuracy: 0.6766 - val_loss: 0.5370 - val_accuracy: 0.8743\n",
            "Epoch 11/200\n",
            "375/375 [==============================] - 1s 3ms/step - loss: 0.9261 - accuracy: 0.6887 - val_loss: 0.5213 - val_accuracy: 0.8803\n",
            "Epoch 12/200\n",
            "375/375 [==============================] - 1s 3ms/step - loss: 0.9091 - accuracy: 0.6963 - val_loss: 0.5024 - val_accuracy: 0.8813\n",
            "Epoch 13/200\n",
            "375/375 [==============================] - 1s 3ms/step - loss: 0.8968 - accuracy: 0.7014 - val_loss: 0.4884 - val_accuracy: 0.8845\n",
            "Epoch 14/200\n",
            "375/375 [==============================] - 1s 3ms/step - loss: 0.8796 - accuracy: 0.7051 - val_loss: 0.4766 - val_accuracy: 0.8883\n",
            "Epoch 15/200\n",
            "375/375 [==============================] - 1s 3ms/step - loss: 0.8681 - accuracy: 0.7091 - val_loss: 0.4708 - val_accuracy: 0.8889\n",
            "Epoch 16/200\n",
            "375/375 [==============================] - 1s 3ms/step - loss: 0.8568 - accuracy: 0.7132 - val_loss: 0.4608 - val_accuracy: 0.8901\n",
            "Epoch 17/200\n",
            "375/375 [==============================] - 1s 3ms/step - loss: 0.8506 - accuracy: 0.7149 - val_loss: 0.4544 - val_accuracy: 0.8917\n",
            "Epoch 18/200\n",
            "375/375 [==============================] - 1s 3ms/step - loss: 0.8373 - accuracy: 0.7186 - val_loss: 0.4511 - val_accuracy: 0.8912\n",
            "Epoch 19/200\n",
            "375/375 [==============================] - 1s 3ms/step - loss: 0.8377 - accuracy: 0.7196 - val_loss: 0.4438 - val_accuracy: 0.8938\n",
            "Epoch 20/200\n",
            "375/375 [==============================] - 1s 3ms/step - loss: 0.8266 - accuracy: 0.7259 - val_loss: 0.4402 - val_accuracy: 0.8941\n",
            "Epoch 21/200\n",
            "375/375 [==============================] - 1s 3ms/step - loss: 0.8226 - accuracy: 0.7249 - val_loss: 0.4325 - val_accuracy: 0.8942\n",
            "Epoch 22/200\n",
            "375/375 [==============================] - 1s 3ms/step - loss: 0.8109 - accuracy: 0.7279 - val_loss: 0.4314 - val_accuracy: 0.8939\n",
            "Epoch 23/200\n",
            "375/375 [==============================] - 1s 3ms/step - loss: 0.8043 - accuracy: 0.7284 - val_loss: 0.4244 - val_accuracy: 0.8955\n",
            "Epoch 24/200\n",
            "375/375 [==============================] - 1s 3ms/step - loss: 0.8082 - accuracy: 0.7289 - val_loss: 0.4253 - val_accuracy: 0.8958\n",
            "Epoch 25/200\n",
            "375/375 [==============================] - 1s 3ms/step - loss: 0.8004 - accuracy: 0.7338 - val_loss: 0.4224 - val_accuracy: 0.8958\n",
            "Epoch 26/200\n",
            "375/375 [==============================] - 1s 3ms/step - loss: 0.7970 - accuracy: 0.7336 - val_loss: 0.4233 - val_accuracy: 0.8947\n",
            "Epoch 27/200\n",
            "375/375 [==============================] - 1s 3ms/step - loss: 0.7930 - accuracy: 0.7361 - val_loss: 0.4143 - val_accuracy: 0.8948\n",
            "Epoch 28/200\n",
            "375/375 [==============================] - 1s 3ms/step - loss: 0.7831 - accuracy: 0.7403 - val_loss: 0.4146 - val_accuracy: 0.8966\n",
            "Epoch 29/200\n",
            "375/375 [==============================] - 1s 3ms/step - loss: 0.7842 - accuracy: 0.7372 - val_loss: 0.4131 - val_accuracy: 0.8970\n",
            "Epoch 30/200\n",
            "375/375 [==============================] - 1s 3ms/step - loss: 0.7843 - accuracy: 0.7368 - val_loss: 0.4143 - val_accuracy: 0.8956\n",
            "Epoch 31/200\n",
            "375/375 [==============================] - 1s 3ms/step - loss: 0.7778 - accuracy: 0.7428 - val_loss: 0.4108 - val_accuracy: 0.8963\n",
            "Epoch 32/200\n",
            "375/375 [==============================] - 1s 3ms/step - loss: 0.7783 - accuracy: 0.7389 - val_loss: 0.4084 - val_accuracy: 0.8958\n",
            "Epoch 33/200\n",
            "375/375 [==============================] - 1s 3ms/step - loss: 0.7740 - accuracy: 0.7416 - val_loss: 0.4056 - val_accuracy: 0.8972\n",
            "Epoch 34/200\n",
            "375/375 [==============================] - 1s 3ms/step - loss: 0.7697 - accuracy: 0.7437 - val_loss: 0.3995 - val_accuracy: 0.8981\n",
            "Epoch 35/200\n",
            "375/375 [==============================] - 1s 3ms/step - loss: 0.7668 - accuracy: 0.7425 - val_loss: 0.4005 - val_accuracy: 0.8977\n",
            "Epoch 36/200\n",
            "375/375 [==============================] - 1s 3ms/step - loss: 0.7632 - accuracy: 0.7456 - val_loss: 0.4002 - val_accuracy: 0.8973\n",
            "Epoch 37/200\n",
            "375/375 [==============================] - 1s 3ms/step - loss: 0.7679 - accuracy: 0.7440 - val_loss: 0.3999 - val_accuracy: 0.8979\n",
            "Epoch 38/200\n",
            "375/375 [==============================] - 1s 3ms/step - loss: 0.7540 - accuracy: 0.7486 - val_loss: 0.3997 - val_accuracy: 0.8979\n",
            "Epoch 39/200\n",
            "375/375 [==============================] - 1s 3ms/step - loss: 0.7561 - accuracy: 0.7504 - val_loss: 0.3948 - val_accuracy: 0.8994\n",
            "Epoch 40/200\n",
            "375/375 [==============================] - 1s 3ms/step - loss: 0.7532 - accuracy: 0.7485 - val_loss: 0.3943 - val_accuracy: 0.8989\n",
            "Epoch 41/200\n",
            "375/375 [==============================] - 1s 3ms/step - loss: 0.7552 - accuracy: 0.7477 - val_loss: 0.3976 - val_accuracy: 0.8985\n",
            "Epoch 42/200\n",
            "375/375 [==============================] - 1s 3ms/step - loss: 0.7491 - accuracy: 0.7514 - val_loss: 0.3905 - val_accuracy: 0.8994\n",
            "Epoch 43/200\n",
            "375/375 [==============================] - 1s 3ms/step - loss: 0.7492 - accuracy: 0.7495 - val_loss: 0.3911 - val_accuracy: 0.8983\n",
            "Epoch 44/200\n",
            "375/375 [==============================] - 1s 3ms/step - loss: 0.7509 - accuracy: 0.7498 - val_loss: 0.3928 - val_accuracy: 0.8999\n",
            "Epoch 45/200\n",
            "375/375 [==============================] - 1s 3ms/step - loss: 0.7533 - accuracy: 0.7495 - val_loss: 0.3890 - val_accuracy: 0.8996\n",
            "Epoch 46/200\n",
            "375/375 [==============================] - 1s 3ms/step - loss: 0.7378 - accuracy: 0.7539 - val_loss: 0.3840 - val_accuracy: 0.8993\n",
            "Epoch 47/200\n",
            "375/375 [==============================] - 1s 3ms/step - loss: 0.7420 - accuracy: 0.7526 - val_loss: 0.3911 - val_accuracy: 0.8986\n",
            "Epoch 48/200\n",
            "375/375 [==============================] - 1s 3ms/step - loss: 0.7335 - accuracy: 0.7555 - val_loss: 0.3885 - val_accuracy: 0.8992\n",
            "Epoch 49/200\n",
            "375/375 [==============================] - 1s 3ms/step - loss: 0.7392 - accuracy: 0.7541 - val_loss: 0.3856 - val_accuracy: 0.8996\n",
            "Epoch 50/200\n",
            "375/375 [==============================] - 1s 3ms/step - loss: 0.7372 - accuracy: 0.7565 - val_loss: 0.3875 - val_accuracy: 0.8994\n",
            "Epoch 51/200\n",
            "375/375 [==============================] - 1s 4ms/step - loss: 0.7299 - accuracy: 0.7567 - val_loss: 0.3839 - val_accuracy: 0.9002\n",
            "Epoch 52/200\n",
            "375/375 [==============================] - 1s 3ms/step - loss: 0.7311 - accuracy: 0.7565 - val_loss: 0.3809 - val_accuracy: 0.9018\n",
            "Epoch 53/200\n",
            "375/375 [==============================] - 1s 3ms/step - loss: 0.7371 - accuracy: 0.7552 - val_loss: 0.3831 - val_accuracy: 0.8991\n",
            "Epoch 54/200\n",
            "375/375 [==============================] - 1s 3ms/step - loss: 0.7286 - accuracy: 0.7585 - val_loss: 0.3808 - val_accuracy: 0.9007\n",
            "Epoch 55/200\n",
            "375/375 [==============================] - 1s 3ms/step - loss: 0.7245 - accuracy: 0.7579 - val_loss: 0.3867 - val_accuracy: 0.8998\n",
            "Epoch 56/200\n",
            "375/375 [==============================] - 1s 3ms/step - loss: 0.7267 - accuracy: 0.7581 - val_loss: 0.3835 - val_accuracy: 0.8993\n",
            "Epoch 57/200\n",
            "375/375 [==============================] - 1s 3ms/step - loss: 0.7276 - accuracy: 0.7591 - val_loss: 0.3809 - val_accuracy: 0.9007\n",
            "Epoch 58/200\n",
            "375/375 [==============================] - 1s 3ms/step - loss: 0.7221 - accuracy: 0.7632 - val_loss: 0.3779 - val_accuracy: 0.9018\n",
            "Epoch 59/200\n",
            "375/375 [==============================] - 1s 3ms/step - loss: 0.7268 - accuracy: 0.7577 - val_loss: 0.3784 - val_accuracy: 0.9027\n",
            "Epoch 60/200\n",
            "375/375 [==============================] - 1s 3ms/step - loss: 0.7202 - accuracy: 0.7588 - val_loss: 0.3784 - val_accuracy: 0.9002\n",
            "Epoch 61/200\n",
            "375/375 [==============================] - 1s 3ms/step - loss: 0.7228 - accuracy: 0.7586 - val_loss: 0.3743 - val_accuracy: 0.9009\n",
            "Epoch 62/200\n",
            "375/375 [==============================] - 1s 3ms/step - loss: 0.7217 - accuracy: 0.7606 - val_loss: 0.3778 - val_accuracy: 0.9018\n",
            "Epoch 63/200\n",
            "375/375 [==============================] - 1s 3ms/step - loss: 0.7157 - accuracy: 0.7617 - val_loss: 0.3776 - val_accuracy: 0.9002\n",
            "Epoch 64/200\n",
            "375/375 [==============================] - 1s 3ms/step - loss: 0.7168 - accuracy: 0.7605 - val_loss: 0.3786 - val_accuracy: 0.9005\n",
            "Epoch 65/200\n",
            "375/375 [==============================] - 1s 3ms/step - loss: 0.7150 - accuracy: 0.7635 - val_loss: 0.3721 - val_accuracy: 0.9009\n",
            "Epoch 66/200\n",
            "375/375 [==============================] - 1s 3ms/step - loss: 0.7137 - accuracy: 0.7628 - val_loss: 0.3759 - val_accuracy: 0.8998\n",
            "Epoch 67/200\n",
            "375/375 [==============================] - 1s 3ms/step - loss: 0.7152 - accuracy: 0.7630 - val_loss: 0.3722 - val_accuracy: 0.9002\n",
            "Epoch 68/200\n",
            "375/375 [==============================] - 1s 3ms/step - loss: 0.7137 - accuracy: 0.7625 - val_loss: 0.3746 - val_accuracy: 0.9007\n",
            "Epoch 69/200\n",
            "375/375 [==============================] - 1s 3ms/step - loss: 0.7111 - accuracy: 0.7648 - val_loss: 0.3775 - val_accuracy: 0.9001\n",
            "Epoch 70/200\n",
            "375/375 [==============================] - 1s 3ms/step - loss: 0.7088 - accuracy: 0.7617 - val_loss: 0.3754 - val_accuracy: 0.9001\n",
            "Epoch 71/200\n",
            "375/375 [==============================] - 1s 3ms/step - loss: 0.7074 - accuracy: 0.7656 - val_loss: 0.3758 - val_accuracy: 0.9001\n",
            "Epoch 72/200\n",
            "375/375 [==============================] - 1s 3ms/step - loss: 0.7079 - accuracy: 0.7652 - val_loss: 0.3752 - val_accuracy: 0.9010\n",
            "Epoch 73/200\n",
            "375/375 [==============================] - 1s 3ms/step - loss: 0.7108 - accuracy: 0.7646 - val_loss: 0.3704 - val_accuracy: 0.9014\n",
            "Epoch 74/200\n",
            "375/375 [==============================] - 1s 3ms/step - loss: 0.7059 - accuracy: 0.7651 - val_loss: 0.3721 - val_accuracy: 0.9013\n",
            "Epoch 75/200\n",
            "375/375 [==============================] - 1s 3ms/step - loss: 0.7092 - accuracy: 0.7640 - val_loss: 0.3719 - val_accuracy: 0.9010\n",
            "Epoch 76/200\n",
            "375/375 [==============================] - 1s 3ms/step - loss: 0.7070 - accuracy: 0.7667 - val_loss: 0.3736 - val_accuracy: 0.9002\n",
            "Epoch 77/200\n",
            "375/375 [==============================] - 1s 3ms/step - loss: 0.7048 - accuracy: 0.7658 - val_loss: 0.3732 - val_accuracy: 0.9018\n",
            "Epoch 78/200\n",
            "375/375 [==============================] - 1s 3ms/step - loss: 0.7013 - accuracy: 0.7657 - val_loss: 0.3708 - val_accuracy: 0.9021\n",
            "Epoch 79/200\n",
            "375/375 [==============================] - 1s 3ms/step - loss: 0.7102 - accuracy: 0.7621 - val_loss: 0.3714 - val_accuracy: 0.9019\n",
            "Epoch 80/200\n",
            "375/375 [==============================] - 1s 3ms/step - loss: 0.7006 - accuracy: 0.7685 - val_loss: 0.3701 - val_accuracy: 0.9014\n",
            "Epoch 81/200\n",
            "375/375 [==============================] - 1s 3ms/step - loss: 0.7011 - accuracy: 0.7670 - val_loss: 0.3720 - val_accuracy: 0.9013\n",
            "Epoch 82/200\n",
            "375/375 [==============================] - 1s 3ms/step - loss: 0.7006 - accuracy: 0.7677 - val_loss: 0.3711 - val_accuracy: 0.9021\n",
            "Epoch 83/200\n",
            "375/375 [==============================] - 1s 3ms/step - loss: 0.7001 - accuracy: 0.7679 - val_loss: 0.3738 - val_accuracy: 0.9013\n",
            "Epoch 84/200\n",
            "375/375 [==============================] - 1s 3ms/step - loss: 0.7009 - accuracy: 0.7690 - val_loss: 0.3718 - val_accuracy: 0.9015\n",
            "Epoch 85/200\n",
            "375/375 [==============================] - 1s 3ms/step - loss: 0.6988 - accuracy: 0.7675 - val_loss: 0.3723 - val_accuracy: 0.9000\n",
            "Epoch 86/200\n",
            "375/375 [==============================] - 1s 3ms/step - loss: 0.6944 - accuracy: 0.7725 - val_loss: 0.3662 - val_accuracy: 0.9024\n",
            "Epoch 87/200\n",
            "375/375 [==============================] - 1s 3ms/step - loss: 0.6928 - accuracy: 0.7723 - val_loss: 0.3696 - val_accuracy: 0.9036\n",
            "Epoch 88/200\n",
            "375/375 [==============================] - 1s 3ms/step - loss: 0.6930 - accuracy: 0.7703 - val_loss: 0.3702 - val_accuracy: 0.9016\n",
            "Epoch 89/200\n",
            "375/375 [==============================] - 1s 3ms/step - loss: 0.6934 - accuracy: 0.7698 - val_loss: 0.3694 - val_accuracy: 0.9025\n",
            "Epoch 90/200\n",
            "375/375 [==============================] - 1s 3ms/step - loss: 0.6894 - accuracy: 0.7701 - val_loss: 0.3681 - val_accuracy: 0.9020\n",
            "Epoch 91/200\n",
            "375/375 [==============================] - 1s 3ms/step - loss: 0.6942 - accuracy: 0.7713 - val_loss: 0.3701 - val_accuracy: 0.9031\n",
            "Epoch 92/200\n",
            "375/375 [==============================] - 1s 3ms/step - loss: 0.6885 - accuracy: 0.7704 - val_loss: 0.3650 - val_accuracy: 0.9047\n",
            "Epoch 93/200\n",
            "375/375 [==============================] - 1s 3ms/step - loss: 0.6878 - accuracy: 0.7732 - val_loss: 0.3668 - val_accuracy: 0.9024\n",
            "Epoch 94/200\n",
            "375/375 [==============================] - 1s 3ms/step - loss: 0.6888 - accuracy: 0.7711 - val_loss: 0.3663 - val_accuracy: 0.9013\n",
            "Epoch 95/200\n",
            "375/375 [==============================] - 1s 3ms/step - loss: 0.6847 - accuracy: 0.7714 - val_loss: 0.3691 - val_accuracy: 0.9007\n",
            "Epoch 96/200\n",
            "375/375 [==============================] - 1s 3ms/step - loss: 0.6891 - accuracy: 0.7717 - val_loss: 0.3680 - val_accuracy: 0.9021\n",
            "Epoch 97/200\n",
            "375/375 [==============================] - 1s 3ms/step - loss: 0.6800 - accuracy: 0.7745 - val_loss: 0.3650 - val_accuracy: 0.9018\n",
            "Epoch 98/200\n",
            "375/375 [==============================] - 1s 3ms/step - loss: 0.6790 - accuracy: 0.7733 - val_loss: 0.3663 - val_accuracy: 0.9011\n",
            "Epoch 99/200\n",
            "375/375 [==============================] - 1s 3ms/step - loss: 0.6813 - accuracy: 0.7734 - val_loss: 0.3648 - val_accuracy: 0.9022\n",
            "Epoch 100/200\n",
            "375/375 [==============================] - 1s 3ms/step - loss: 0.6834 - accuracy: 0.7737 - val_loss: 0.3657 - val_accuracy: 0.9019\n",
            "Epoch 101/200\n",
            "375/375 [==============================] - 1s 3ms/step - loss: 0.6775 - accuracy: 0.7739 - val_loss: 0.3665 - val_accuracy: 0.9009\n",
            "Epoch 102/200\n",
            "375/375 [==============================] - 1s 3ms/step - loss: 0.6868 - accuracy: 0.7719 - val_loss: 0.3686 - val_accuracy: 0.9002\n",
            "Epoch 103/200\n",
            "375/375 [==============================] - 1s 3ms/step - loss: 0.6853 - accuracy: 0.7727 - val_loss: 0.3648 - val_accuracy: 0.9018\n",
            "Epoch 104/200\n",
            "375/375 [==============================] - 1s 3ms/step - loss: 0.6794 - accuracy: 0.7748 - val_loss: 0.3625 - val_accuracy: 0.9020\n",
            "Epoch 105/200\n",
            "375/375 [==============================] - 1s 3ms/step - loss: 0.6768 - accuracy: 0.7734 - val_loss: 0.3641 - val_accuracy: 0.9001\n",
            "Epoch 106/200\n",
            "375/375 [==============================] - 1s 3ms/step - loss: 0.6810 - accuracy: 0.7729 - val_loss: 0.3669 - val_accuracy: 0.9010\n",
            "Epoch 107/200\n",
            "375/375 [==============================] - 1s 3ms/step - loss: 0.6776 - accuracy: 0.7763 - val_loss: 0.3654 - val_accuracy: 0.9018\n",
            "Epoch 108/200\n",
            "375/375 [==============================] - 1s 3ms/step - loss: 0.6737 - accuracy: 0.7770 - val_loss: 0.3625 - val_accuracy: 0.9024\n",
            "Epoch 109/200\n",
            "375/375 [==============================] - 1s 3ms/step - loss: 0.6773 - accuracy: 0.7744 - val_loss: 0.3657 - val_accuracy: 0.8993\n",
            "Epoch 110/200\n",
            "375/375 [==============================] - 1s 3ms/step - loss: 0.6777 - accuracy: 0.7744 - val_loss: 0.3624 - val_accuracy: 0.9026\n",
            "Epoch 111/200\n",
            "375/375 [==============================] - 1s 3ms/step - loss: 0.6740 - accuracy: 0.7767 - val_loss: 0.3626 - val_accuracy: 0.9026\n",
            "Epoch 112/200\n",
            "375/375 [==============================] - 1s 3ms/step - loss: 0.6747 - accuracy: 0.7759 - val_loss: 0.3626 - val_accuracy: 0.9007\n",
            "Epoch 113/200\n",
            "375/375 [==============================] - 1s 3ms/step - loss: 0.6704 - accuracy: 0.7786 - val_loss: 0.3659 - val_accuracy: 0.9012\n",
            "Epoch 114/200\n",
            "375/375 [==============================] - 1s 3ms/step - loss: 0.6751 - accuracy: 0.7760 - val_loss: 0.3652 - val_accuracy: 0.9011\n",
            "Epoch 115/200\n",
            "375/375 [==============================] - 1s 3ms/step - loss: 0.6725 - accuracy: 0.7768 - val_loss: 0.3670 - val_accuracy: 0.9016\n",
            "Epoch 116/200\n",
            "375/375 [==============================] - 1s 3ms/step - loss: 0.6739 - accuracy: 0.7762 - val_loss: 0.3624 - val_accuracy: 0.9015\n",
            "Epoch 117/200\n",
            "375/375 [==============================] - 1s 3ms/step - loss: 0.6728 - accuracy: 0.7753 - val_loss: 0.3631 - val_accuracy: 0.9029\n",
            "Epoch 118/200\n",
            "375/375 [==============================] - 1s 3ms/step - loss: 0.6718 - accuracy: 0.7781 - val_loss: 0.3655 - val_accuracy: 0.9013\n",
            "Epoch 119/200\n",
            "375/375 [==============================] - 1s 3ms/step - loss: 0.6687 - accuracy: 0.7786 - val_loss: 0.3623 - val_accuracy: 0.9003\n",
            "Epoch 120/200\n",
            "375/375 [==============================] - 1s 3ms/step - loss: 0.6706 - accuracy: 0.7788 - val_loss: 0.3627 - val_accuracy: 0.9012\n",
            "Epoch 121/200\n",
            "375/375 [==============================] - 1s 3ms/step - loss: 0.6641 - accuracy: 0.7799 - val_loss: 0.3609 - val_accuracy: 0.9033\n",
            "Epoch 122/200\n",
            "375/375 [==============================] - 1s 3ms/step - loss: 0.6662 - accuracy: 0.7815 - val_loss: 0.3618 - val_accuracy: 0.9030\n",
            "Epoch 123/200\n",
            "375/375 [==============================] - 1s 3ms/step - loss: 0.6677 - accuracy: 0.7800 - val_loss: 0.3605 - val_accuracy: 0.9019\n",
            "Epoch 124/200\n",
            "375/375 [==============================] - 1s 3ms/step - loss: 0.6646 - accuracy: 0.7791 - val_loss: 0.3602 - val_accuracy: 0.9027\n",
            "Epoch 125/200\n",
            "375/375 [==============================] - 1s 3ms/step - loss: 0.6666 - accuracy: 0.7801 - val_loss: 0.3588 - val_accuracy: 0.9047\n",
            "Epoch 126/200\n",
            "375/375 [==============================] - 1s 3ms/step - loss: 0.6695 - accuracy: 0.7803 - val_loss: 0.3636 - val_accuracy: 0.9022\n",
            "Epoch 127/200\n",
            "375/375 [==============================] - 1s 3ms/step - loss: 0.6598 - accuracy: 0.7808 - val_loss: 0.3606 - val_accuracy: 0.9033\n",
            "Epoch 128/200\n",
            "375/375 [==============================] - 1s 3ms/step - loss: 0.6675 - accuracy: 0.7774 - val_loss: 0.3599 - val_accuracy: 0.9033\n",
            "Epoch 129/200\n",
            "375/375 [==============================] - 1s 3ms/step - loss: 0.6662 - accuracy: 0.7795 - val_loss: 0.3581 - val_accuracy: 0.9042\n",
            "Epoch 130/200\n",
            "375/375 [==============================] - 1s 3ms/step - loss: 0.6620 - accuracy: 0.7831 - val_loss: 0.3572 - val_accuracy: 0.9040\n",
            "Epoch 131/200\n",
            "375/375 [==============================] - 1s 3ms/step - loss: 0.6596 - accuracy: 0.7807 - val_loss: 0.3579 - val_accuracy: 0.9049\n",
            "Epoch 132/200\n",
            "375/375 [==============================] - 1s 3ms/step - loss: 0.6591 - accuracy: 0.7810 - val_loss: 0.3615 - val_accuracy: 0.9029\n",
            "Epoch 133/200\n",
            "375/375 [==============================] - 1s 3ms/step - loss: 0.6647 - accuracy: 0.7811 - val_loss: 0.3581 - val_accuracy: 0.9049\n",
            "Epoch 134/200\n",
            "375/375 [==============================] - 1s 3ms/step - loss: 0.6592 - accuracy: 0.7822 - val_loss: 0.3604 - val_accuracy: 0.9028\n",
            "Epoch 135/200\n",
            "375/375 [==============================] - 1s 3ms/step - loss: 0.6608 - accuracy: 0.7802 - val_loss: 0.3601 - val_accuracy: 0.9032\n",
            "Epoch 136/200\n",
            "375/375 [==============================] - 1s 3ms/step - loss: 0.6539 - accuracy: 0.7833 - val_loss: 0.3603 - val_accuracy: 0.9022\n",
            "Epoch 137/200\n",
            "375/375 [==============================] - 1s 3ms/step - loss: 0.6591 - accuracy: 0.7843 - val_loss: 0.3590 - val_accuracy: 0.9030\n",
            "Epoch 138/200\n",
            "375/375 [==============================] - 1s 3ms/step - loss: 0.6558 - accuracy: 0.7843 - val_loss: 0.3578 - val_accuracy: 0.9050\n",
            "Epoch 139/200\n",
            "375/375 [==============================] - 1s 3ms/step - loss: 0.6560 - accuracy: 0.7833 - val_loss: 0.3624 - val_accuracy: 0.9032\n",
            "Epoch 140/200\n",
            "375/375 [==============================] - 1s 3ms/step - loss: 0.6525 - accuracy: 0.7856 - val_loss: 0.3615 - val_accuracy: 0.9022\n",
            "Epoch 141/200\n",
            "375/375 [==============================] - 1s 3ms/step - loss: 0.6524 - accuracy: 0.7835 - val_loss: 0.3594 - val_accuracy: 0.9036\n",
            "Epoch 142/200\n",
            "375/375 [==============================] - 1s 3ms/step - loss: 0.6604 - accuracy: 0.7814 - val_loss: 0.3608 - val_accuracy: 0.9033\n",
            "Epoch 143/200\n",
            "375/375 [==============================] - 1s 3ms/step - loss: 0.6509 - accuracy: 0.7849 - val_loss: 0.3559 - val_accuracy: 0.9028\n",
            "Epoch 144/200\n",
            "375/375 [==============================] - 1s 3ms/step - loss: 0.6589 - accuracy: 0.7824 - val_loss: 0.3564 - val_accuracy: 0.9052\n",
            "Epoch 145/200\n",
            "375/375 [==============================] - 1s 3ms/step - loss: 0.6557 - accuracy: 0.7831 - val_loss: 0.3604 - val_accuracy: 0.9038\n",
            "Epoch 146/200\n",
            "375/375 [==============================] - 1s 3ms/step - loss: 0.6520 - accuracy: 0.7847 - val_loss: 0.3568 - val_accuracy: 0.9034\n",
            "Epoch 147/200\n",
            "375/375 [==============================] - 1s 3ms/step - loss: 0.6537 - accuracy: 0.7843 - val_loss: 0.3602 - val_accuracy: 0.9032\n",
            "Epoch 148/200\n",
            "375/375 [==============================] - 1s 3ms/step - loss: 0.6470 - accuracy: 0.7872 - val_loss: 0.3622 - val_accuracy: 0.9032\n",
            "Epoch 149/200\n",
            "375/375 [==============================] - 1s 3ms/step - loss: 0.6509 - accuracy: 0.7841 - val_loss: 0.3569 - val_accuracy: 0.9066\n",
            "Epoch 150/200\n",
            "375/375 [==============================] - 1s 3ms/step - loss: 0.6509 - accuracy: 0.7857 - val_loss: 0.3591 - val_accuracy: 0.9030\n",
            "Epoch 151/200\n",
            "375/375 [==============================] - 1s 3ms/step - loss: 0.6504 - accuracy: 0.7844 - val_loss: 0.3615 - val_accuracy: 0.9022\n",
            "Epoch 152/200\n",
            "375/375 [==============================] - 1s 3ms/step - loss: 0.6527 - accuracy: 0.7819 - val_loss: 0.3639 - val_accuracy: 0.9016\n",
            "Epoch 153/200\n",
            "375/375 [==============================] - 1s 3ms/step - loss: 0.6530 - accuracy: 0.7829 - val_loss: 0.3573 - val_accuracy: 0.9062\n",
            "Epoch 154/200\n",
            "375/375 [==============================] - 1s 3ms/step - loss: 0.6494 - accuracy: 0.7838 - val_loss: 0.3591 - val_accuracy: 0.9031\n",
            "Epoch 155/200\n",
            "375/375 [==============================] - 1s 3ms/step - loss: 0.6492 - accuracy: 0.7849 - val_loss: 0.3602 - val_accuracy: 0.9030\n",
            "Epoch 156/200\n",
            "375/375 [==============================] - 1s 3ms/step - loss: 0.6497 - accuracy: 0.7865 - val_loss: 0.3580 - val_accuracy: 0.9043\n",
            "Epoch 157/200\n",
            "375/375 [==============================] - 1s 3ms/step - loss: 0.6483 - accuracy: 0.7862 - val_loss: 0.3596 - val_accuracy: 0.9042\n",
            "Epoch 158/200\n",
            "375/375 [==============================] - 1s 3ms/step - loss: 0.6515 - accuracy: 0.7848 - val_loss: 0.3561 - val_accuracy: 0.9037\n",
            "Epoch 159/200\n",
            "375/375 [==============================] - 1s 3ms/step - loss: 0.6500 - accuracy: 0.7846 - val_loss: 0.3565 - val_accuracy: 0.9052\n",
            "Epoch 160/200\n",
            "375/375 [==============================] - 1s 3ms/step - loss: 0.6479 - accuracy: 0.7857 - val_loss: 0.3601 - val_accuracy: 0.9036\n",
            "Epoch 161/200\n",
            "375/375 [==============================] - 1s 3ms/step - loss: 0.6452 - accuracy: 0.7881 - val_loss: 0.3565 - val_accuracy: 0.9053\n",
            "Epoch 162/200\n",
            "375/375 [==============================] - 1s 3ms/step - loss: 0.6497 - accuracy: 0.7843 - val_loss: 0.3601 - val_accuracy: 0.9026\n",
            "Epoch 163/200\n",
            "375/375 [==============================] - 1s 3ms/step - loss: 0.6535 - accuracy: 0.7847 - val_loss: 0.3649 - val_accuracy: 0.9009\n",
            "Epoch 164/200\n",
            "375/375 [==============================] - 1s 3ms/step - loss: 0.6508 - accuracy: 0.7853 - val_loss: 0.3569 - val_accuracy: 0.9050\n",
            "Epoch 165/200\n",
            "375/375 [==============================] - 1s 3ms/step - loss: 0.6454 - accuracy: 0.7868 - val_loss: 0.3639 - val_accuracy: 0.9026\n",
            "Epoch 166/200\n",
            "375/375 [==============================] - 1s 3ms/step - loss: 0.6473 - accuracy: 0.7895 - val_loss: 0.3632 - val_accuracy: 0.9013\n",
            "Epoch 167/200\n",
            "375/375 [==============================] - 1s 3ms/step - loss: 0.6374 - accuracy: 0.7916 - val_loss: 0.3542 - val_accuracy: 0.9053\n",
            "Epoch 168/200\n",
            "375/375 [==============================] - 1s 3ms/step - loss: 0.6472 - accuracy: 0.7872 - val_loss: 0.3566 - val_accuracy: 0.9038\n",
            "Epoch 169/200\n",
            "375/375 [==============================] - 1s 3ms/step - loss: 0.6438 - accuracy: 0.7879 - val_loss: 0.3565 - val_accuracy: 0.9070\n",
            "Epoch 170/200\n",
            "375/375 [==============================] - 1s 3ms/step - loss: 0.6471 - accuracy: 0.7851 - val_loss: 0.3584 - val_accuracy: 0.9036\n",
            "Epoch 171/200\n",
            "375/375 [==============================] - 1s 3ms/step - loss: 0.6360 - accuracy: 0.7906 - val_loss: 0.3555 - val_accuracy: 0.9057\n",
            "Epoch 172/200\n",
            "375/375 [==============================] - 1s 3ms/step - loss: 0.6458 - accuracy: 0.7870 - val_loss: 0.3544 - val_accuracy: 0.9041\n",
            "Epoch 173/200\n",
            "375/375 [==============================] - 1s 3ms/step - loss: 0.6427 - accuracy: 0.7872 - val_loss: 0.3611 - val_accuracy: 0.9012\n",
            "Epoch 174/200\n",
            "375/375 [==============================] - 1s 3ms/step - loss: 0.6451 - accuracy: 0.7854 - val_loss: 0.3589 - val_accuracy: 0.9038\n",
            "Epoch 175/200\n",
            "375/375 [==============================] - 1s 3ms/step - loss: 0.6448 - accuracy: 0.7875 - val_loss: 0.3579 - val_accuracy: 0.9032\n",
            "Epoch 176/200\n",
            "375/375 [==============================] - 1s 3ms/step - loss: 0.6366 - accuracy: 0.7901 - val_loss: 0.3542 - val_accuracy: 0.9048\n",
            "Epoch 177/200\n",
            "375/375 [==============================] - 1s 3ms/step - loss: 0.6398 - accuracy: 0.7890 - val_loss: 0.3607 - val_accuracy: 0.9017\n",
            "Epoch 178/200\n",
            "375/375 [==============================] - 1s 3ms/step - loss: 0.6398 - accuracy: 0.7879 - val_loss: 0.3559 - val_accuracy: 0.9048\n",
            "Epoch 179/200\n",
            "375/375 [==============================] - 1s 3ms/step - loss: 0.6397 - accuracy: 0.7877 - val_loss: 0.3557 - val_accuracy: 0.9045\n",
            "Epoch 180/200\n",
            "375/375 [==============================] - 1s 3ms/step - loss: 0.6359 - accuracy: 0.7909 - val_loss: 0.3569 - val_accuracy: 0.9035\n",
            "Epoch 181/200\n",
            "375/375 [==============================] - 1s 3ms/step - loss: 0.6346 - accuracy: 0.7894 - val_loss: 0.3620 - val_accuracy: 0.9029\n",
            "Epoch 182/200\n",
            "375/375 [==============================] - 1s 3ms/step - loss: 0.6362 - accuracy: 0.7903 - val_loss: 0.3542 - val_accuracy: 0.9046\n",
            "Epoch 183/200\n",
            "375/375 [==============================] - 1s 3ms/step - loss: 0.6341 - accuracy: 0.7897 - val_loss: 0.3577 - val_accuracy: 0.9020\n",
            "Epoch 184/200\n",
            "375/375 [==============================] - 1s 3ms/step - loss: 0.6368 - accuracy: 0.7911 - val_loss: 0.3557 - val_accuracy: 0.9054\n",
            "Epoch 185/200\n",
            "375/375 [==============================] - 1s 3ms/step - loss: 0.6373 - accuracy: 0.7894 - val_loss: 0.3581 - val_accuracy: 0.9023\n",
            "Epoch 186/200\n",
            "375/375 [==============================] - 1s 3ms/step - loss: 0.6346 - accuracy: 0.7909 - val_loss: 0.3561 - val_accuracy: 0.9054\n",
            "Epoch 187/200\n",
            "375/375 [==============================] - 1s 3ms/step - loss: 0.6358 - accuracy: 0.7905 - val_loss: 0.3572 - val_accuracy: 0.9028\n",
            "Epoch 188/200\n",
            "375/375 [==============================] - 1s 3ms/step - loss: 0.6414 - accuracy: 0.7893 - val_loss: 0.3628 - val_accuracy: 0.9024\n",
            "Epoch 189/200\n",
            "375/375 [==============================] - 1s 3ms/step - loss: 0.6373 - accuracy: 0.7885 - val_loss: 0.3596 - val_accuracy: 0.9022\n",
            "Epoch 190/200\n",
            "375/375 [==============================] - 1s 3ms/step - loss: 0.6333 - accuracy: 0.7900 - val_loss: 0.3549 - val_accuracy: 0.9043\n",
            "Epoch 191/200\n",
            "375/375 [==============================] - 1s 3ms/step - loss: 0.6367 - accuracy: 0.7907 - val_loss: 0.3568 - val_accuracy: 0.9048\n",
            "Epoch 192/200\n",
            "375/375 [==============================] - 1s 3ms/step - loss: 0.6314 - accuracy: 0.7912 - val_loss: 0.3606 - val_accuracy: 0.9021\n",
            "Epoch 193/200\n",
            "375/375 [==============================] - 1s 3ms/step - loss: 0.6319 - accuracy: 0.7923 - val_loss: 0.3550 - val_accuracy: 0.9043\n",
            "Epoch 194/200\n",
            "375/375 [==============================] - 1s 3ms/step - loss: 0.6344 - accuracy: 0.7912 - val_loss: 0.3605 - val_accuracy: 0.9014\n",
            "Epoch 195/200\n",
            "375/375 [==============================] - 1s 3ms/step - loss: 0.6302 - accuracy: 0.7925 - val_loss: 0.3593 - val_accuracy: 0.9047\n",
            "Epoch 196/200\n",
            "375/375 [==============================] - 1s 3ms/step - loss: 0.6369 - accuracy: 0.7928 - val_loss: 0.3544 - val_accuracy: 0.9053\n",
            "Epoch 197/200\n",
            "375/375 [==============================] - 1s 3ms/step - loss: 0.6363 - accuracy: 0.7894 - val_loss: 0.3587 - val_accuracy: 0.9026\n",
            "Epoch 198/200\n",
            "375/375 [==============================] - 1s 3ms/step - loss: 0.6373 - accuracy: 0.7899 - val_loss: 0.3595 - val_accuracy: 0.9021\n",
            "Epoch 199/200\n",
            "375/375 [==============================] - 1s 3ms/step - loss: 0.6397 - accuracy: 0.7886 - val_loss: 0.3580 - val_accuracy: 0.9027\n",
            "Epoch 200/200\n",
            "375/375 [==============================] - 1s 3ms/step - loss: 0.6420 - accuracy: 0.7909 - val_loss: 0.3604 - val_accuracy: 0.9016\n"
          ],
          "name": "stdout"
        },
        {
          "output_type": "execute_result",
          "data": {
            "text/plain": [
              "<tensorflow.python.keras.callbacks.History at 0x7fa4435ae9b0>"
            ]
          },
          "metadata": {
            "tags": []
          },
          "execution_count": 43
        }
      ]
    },
    {
      "cell_type": "markdown",
      "metadata": {
        "id": "_kCDS3vE7vqk",
        "colab_type": "text"
      },
      "source": [
        "## Evaluate the Model"
      ]
    },
    {
      "cell_type": "code",
      "metadata": {
        "id": "h2PeKzo27y6s",
        "colab_type": "code",
        "outputId": "8bca7f74-3045-41f9-bb8d-364b12f48c66",
        "colab": {
          "base_uri": "https://localhost:8080/",
          "height": 51
        }
      },
      "source": [
        "test_loss, test_acc = model.evaluate(X_test, Y_test)\n",
        "print('Test Accuracy: {}'.format(test_acc))"
      ],
      "execution_count": 44,
      "outputs": [
        {
          "output_type": "stream",
          "text": [
            "313/313 [==============================] - 0s 1ms/step - loss: 0.3617 - accuracy: 0.8986\n",
            "Test Accuracy: 0.8985999822616577\n"
          ],
          "name": "stdout"
        }
      ]
    }
  ]
}