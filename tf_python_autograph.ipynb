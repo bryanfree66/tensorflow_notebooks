{
  "nbformat": 4,
  "nbformat_minor": 0,
  "metadata": {
    "colab": {
      "name": "tf_python_autograph",
      "provenance": [],
      "collapsed_sections": [],
      "authorship_tag": "ABX9TyP4riMAuADLza5bVPVobRRv",
      "include_colab_link": true
    },
    "kernelspec": {
      "name": "python3",
      "display_name": "Python 3"
    }
  },
  "cells": [
    {
      "cell_type": "markdown",
      "metadata": {
        "id": "view-in-github",
        "colab_type": "text"
      },
      "source": [
        "<a href=\"https://colab.research.google.com/github/bryanfree66/tensorflow_notebooks/blob/master/tf_python_autograph.ipynb\" target=\"_parent\"><img src=\"https://colab.research.google.com/assets/colab-badge.svg\" alt=\"Open In Colab\"/></a>"
      ]
    },
    {
      "cell_type": "code",
      "metadata": {
        "id": "3H1BcC0bCYmC",
        "colab_type": "code",
        "colab": {}
      },
      "source": [
        "import tensorflow as tf\n",
        "import timeit"
      ],
      "execution_count": 0,
      "outputs": []
    },
    {
      "cell_type": "code",
      "metadata": {
        "id": "nn6SDwqcCyly",
        "colab_type": "code",
        "colab": {}
      },
      "source": [
        "cell = tf.keras.layers.LSTMCell(100)"
      ],
      "execution_count": 0,
      "outputs": []
    },
    {
      "cell_type": "code",
      "metadata": {
        "id": "D0BrxzcbDAKw",
        "colab_type": "code",
        "colab": {}
      },
      "source": [
        "@tf.function\n",
        "def test_fn(input, state):\n",
        "  return cell(input, state)"
      ],
      "execution_count": 0,
      "outputs": []
    },
    {
      "cell_type": "code",
      "metadata": {
        "id": "700EqBO0DcuZ",
        "colab_type": "code",
        "colab": {}
      },
      "source": [
        "input = tf.zeros([100, 100])\n",
        "state = [tf.zeros([100, 100])] * 2"
      ],
      "execution_count": 0,
      "outputs": []
    },
    {
      "cell_type": "code",
      "metadata": {
        "id": "gLmIcPSTD1TO",
        "colab_type": "code",
        "outputId": "78259b2d-2c31-4ded-d3cf-348db28b351d",
        "colab": {
          "base_uri": "https://localhost:8080/",
          "height": 425
        }
      },
      "source": [
        "# warm up\n",
        "cell(input, state)\n",
        "test_fn(input, state)"
      ],
      "execution_count": 12,
      "outputs": [
        {
          "output_type": "execute_result",
          "data": {
            "text/plain": [
              "(<tf.Tensor: shape=(100, 100), dtype=float32, numpy=\n",
              " array([[0., 0., 0., ..., 0., 0., 0.],\n",
              "        [0., 0., 0., ..., 0., 0., 0.],\n",
              "        [0., 0., 0., ..., 0., 0., 0.],\n",
              "        ...,\n",
              "        [0., 0., 0., ..., 0., 0., 0.],\n",
              "        [0., 0., 0., ..., 0., 0., 0.],\n",
              "        [0., 0., 0., ..., 0., 0., 0.]], dtype=float32)>,\n",
              " [<tf.Tensor: shape=(100, 100), dtype=float32, numpy=\n",
              "  array([[0., 0., 0., ..., 0., 0., 0.],\n",
              "         [0., 0., 0., ..., 0., 0., 0.],\n",
              "         [0., 0., 0., ..., 0., 0., 0.],\n",
              "         ...,\n",
              "         [0., 0., 0., ..., 0., 0., 0.],\n",
              "         [0., 0., 0., ..., 0., 0., 0.],\n",
              "         [0., 0., 0., ..., 0., 0., 0.]], dtype=float32)>,\n",
              "  <tf.Tensor: shape=(100, 100), dtype=float32, numpy=\n",
              "  array([[0., 0., 0., ..., 0., 0., 0.],\n",
              "         [0., 0., 0., ..., 0., 0., 0.],\n",
              "         [0., 0., 0., ..., 0., 0., 0.],\n",
              "         ...,\n",
              "         [0., 0., 0., ..., 0., 0., 0.],\n",
              "         [0., 0., 0., ..., 0., 0., 0.],\n",
              "         [0., 0., 0., ..., 0., 0., 0.]], dtype=float32)>])"
            ]
          },
          "metadata": {
            "tags": []
          },
          "execution_count": 12
        }
      ]
    },
    {
      "cell_type": "code",
      "metadata": {
        "id": "fifBXhajEqww",
        "colab_type": "code",
        "outputId": "6190e077-d9a4-4448-96e2-975d11d05eb1",
        "colab": {
          "base_uri": "https://localhost:8080/",
          "height": 34
        }
      },
      "source": [
        "graph_time = timeit.timeit(lambda:\n",
        "                           cell(input, state),\n",
        "                           number=100)\n",
        "\n",
        "print('Graph time: ', graph_time)"
      ],
      "execution_count": 13,
      "outputs": [
        {
          "output_type": "stream",
          "text": [
            "Graph time:  0.11611524599993572\n"
          ],
          "name": "stdout"
        }
      ]
    },
    {
      "cell_type": "code",
      "metadata": {
        "id": "Gq5FmSYOEyQb",
        "colab_type": "code",
        "outputId": "07360df5-b225-46f4-ab76-f91ed78b22f4",
        "colab": {
          "base_uri": "https://localhost:8080/",
          "height": 34
        }
      },
      "source": [
        "auto_graph_time = timeit.timeit(lambda:\n",
        "                           test_fn(input, state),\n",
        "                           number=100)\n",
        "print('Auto graph time: ', auto_graph_time)"
      ],
      "execution_count": 14,
      "outputs": [
        {
          "output_type": "stream",
          "text": [
            "Auto graph time:  0.08823339199989277\n"
          ],
          "name": "stdout"
        }
      ]
    }
  ]
}