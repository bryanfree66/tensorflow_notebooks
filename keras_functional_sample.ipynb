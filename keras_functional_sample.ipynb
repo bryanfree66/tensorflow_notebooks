{
  "nbformat": 4,
  "nbformat_minor": 0,
  "metadata": {
    "colab": {
      "name": "keras_functional_sample",
      "provenance": [],
      "collapsed_sections": [],
      "mount_file_id": "1g3qE-NbCgmACkyxkS4034YKPuwbbQW9i",
      "authorship_tag": "ABX9TyO2sYixwO5e+JQrM/rabAC9",
      "include_colab_link": true
    },
    "kernelspec": {
      "name": "python3",
      "display_name": "Python 3"
    }
  },
  "cells": [
    {
      "cell_type": "markdown",
      "metadata": {
        "id": "view-in-github",
        "colab_type": "text"
      },
      "source": [
        "<a href=\"https://colab.research.google.com/github/bryanfree66/tensorflow_notebooks/blob/master/keras_functional_sample.ipynb\" target=\"_parent\"><img src=\"https://colab.research.google.com/assets/colab-badge.svg\" alt=\"Open In Colab\"/></a>"
      ]
    },
    {
      "cell_type": "code",
      "metadata": {
        "id": "B9OgyjM3IEPh",
        "colab_type": "code",
        "colab": {}
      },
      "source": [
        "import tensorflow as tf"
      ],
      "execution_count": 0,
      "outputs": []
    },
    {
      "cell_type": "code",
      "metadata": {
        "id": "WltvfHhGIRIQ",
        "colab_type": "code",
        "colab": {}
      },
      "source": [
        "def build_model():\n",
        "  # Variable length sequences of integers\n",
        "  text_input_a = tf.keras.Input(shape=(None,),\n",
        "                                dtype='int32')\n",
        "  text_input_b = tf.keras.Input(shape=(None,),\n",
        "                                dtype='int32')\n",
        "  \n",
        "  # Embedding for 1000 unique words mapped to 128-D vectors\n",
        "  shared_embedding = tf.keras.layers.Embedding(1000, 128)\n",
        "\n",
        "  # reuse the same layer to encode both inputs\n",
        "  encoded_input_a = shared_embedding(text_input_a)\n",
        "  encoded_input_b = shared_embedding(text_input_b)\n",
        "\n",
        "  # Two logistic predictions at the end\n",
        "  prediction_a = tf.keras.layers.Dense(1, activation='sigmoid',\\\n",
        "                                       name='prediction_a')(encoded_input_a)\n",
        "  prediction_b = tf.keras.layers.Dense(1,activation='sigmoid',\\\n",
        "                                       name='prediction_b')(encoded_input_b)\n",
        "\n",
        "  model = tf.keras.Model(inputs=[text_input_a, text_input_b], \n",
        "                        outputs=[prediction_a, prediction_b])\n",
        "  tf.keras.utils.plot_model(model, to_file='drive/My Drive/colab_outputs/shared_model.png')\n",
        "\n",
        "\n"
      ],
      "execution_count": 0,
      "outputs": []
    },
    {
      "cell_type": "code",
      "metadata": {
        "id": "oaZ1klG1LPpj",
        "colab_type": "code",
        "colab": {}
      },
      "source": [
        "\n",
        "build_model()"
      ],
      "execution_count": 0,
      "outputs": []
    }
  ]
}