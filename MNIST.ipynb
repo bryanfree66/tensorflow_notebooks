{
  "nbformat": 4,
  "nbformat_minor": 0,
  "metadata": {
    "colab": {
      "name": "MNIST.ipynb",
      "provenance": [],
      "collapsed_sections": [],
      "authorship_tag": "ABX9TyNzGPbQY8H7m5PMc579Le2e",
      "include_colab_link": true
    },
    "kernelspec": {
      "name": "python3",
      "display_name": "Python 3"
    }
  },
  "cells": [
    {
      "cell_type": "markdown",
      "metadata": {
        "id": "view-in-github",
        "colab_type": "text"
      },
      "source": [
        "<a href=\"https://colab.research.google.com/github/bryanfree66/tensorflow_notebooks/blob/master/MNIST.ipynb\" target=\"_parent\"><img src=\"https://colab.research.google.com/assets/colab-badge.svg\" alt=\"Open In Colab\"/></a>"
      ]
    },
    {
      "cell_type": "markdown",
      "metadata": {
        "id": "qtVzXvHjbR_u",
        "colab_type": "text"
      },
      "source": [
        "# MNIST Sample"
      ]
    },
    {
      "cell_type": "code",
      "metadata": {
        "id": "Cun_PuhiZtoP",
        "colab_type": "code",
        "colab": {}
      },
      "source": [
        "import tensorflow as tf\n",
        "import numpy as np\n",
        "from tensorflow import keras"
      ],
      "execution_count": 0,
      "outputs": []
    },
    {
      "cell_type": "markdown",
      "metadata": {
        "id": "OaMsXJJkbAOt",
        "colab_type": "text"
      },
      "source": [
        "## Load the Data "
      ]
    },
    {
      "cell_type": "code",
      "metadata": {
        "id": "Y7Jk4Jx6aqFm",
        "colab_type": "code",
        "colab": {}
      },
      "source": [
        "EPOCHS = 20\n",
        "BATCH_SIZE = 64\n",
        "VERBOSE = 1\n",
        "NB_CLASSES = 10\n",
        "N_HIDDEN = 128\n",
        "VALIDATION_SPLIT = 0.2\n",
        "RESHAPED = 784\n",
        "DROPOUT = 0.3"
      ],
      "execution_count": 0,
      "outputs": []
    },
    {
      "cell_type": "code",
      "metadata": {
        "id": "YDmN1SK26wDc",
        "colab_type": "code",
        "colab": {}
      },
      "source": [
        "mnist = keras.datasets.mnist\n",
        "(X_train, Y_train), (X_test, Y_test) = mnist.load_data()"
      ],
      "execution_count": 0,
      "outputs": []
    },
    {
      "cell_type": "code",
      "metadata": {
        "id": "YGW5R5Vjb_0Y",
        "colab_type": "code",
        "outputId": "3af453cf-227e-446f-e5aa-c2d61f839a9e",
        "colab": {
          "base_uri": "https://localhost:8080/",
          "height": 51
        }
      },
      "source": [
        "X_train = X_train.reshape(60000, RESHAPED)\n",
        "X_test = X_test.reshape(10000, RESHAPED)\n",
        "X_train = X_train.astype('float32')\n",
        "X_test = X_test.astype('float32')\n",
        "X_train, X_test = X_train / 255.0, X_test / 255.0\n",
        "print('X_train shape: {}'.format(X_train.shape[0]))\n",
        "print('X_test shape: {}'.format(X_test.shape[0]))\n"
      ],
      "execution_count": 14,
      "outputs": [
        {
          "output_type": "stream",
          "text": [
            "X_train shape: 60000\n",
            "X_test shape: 10000\n"
          ],
          "name": "stdout"
        }
      ]
    },
    {
      "cell_type": "code",
      "metadata": {
        "id": "wbLYuA7Jdhrv",
        "colab_type": "code",
        "colab": {}
      },
      "source": [
        "Y_train = tf.keras.utils.to_categorical(Y_train, NB_CLASSES)\n",
        "Y_test = tf.keras.utils.to_categorical(Y_test, NB_CLASSES)"
      ],
      "execution_count": 0,
      "outputs": []
    },
    {
      "cell_type": "markdown",
      "metadata": {
        "id": "MySS3EWOxnbe",
        "colab_type": "text"
      },
      "source": [
        "## Build the Model"
      ]
    },
    {
      "cell_type": "code",
      "metadata": {
        "id": "S1xfuPZLxrG-",
        "colab_type": "code",
        "colab": {}
      },
      "source": [
        "model = tf.keras.models.Sequential()\n",
        "model.add(keras.layers.Dense(N_HIDDEN, \n",
        "                             input_shape=(RESHAPED,),\n",
        "                             name='dense_layer_1',\n",
        "                             activation='relu'))\n",
        "model.add(keras.layers.Dropout(DROPOUT,\n",
        "                               name='dropout_1'))\n",
        "model.add(keras.layers.Dense(N_HIDDEN,\n",
        "                             name='dense_layer_2',\n",
        "                             activation='relu'))\n",
        "model.add(keras.layers.Dropout(DROPOUT,\n",
        "                               name='dropout_2'))\n",
        "model.add(keras.layers.Dense(NB_CLASSES,\n",
        "                             name='dense_layer_3',\n",
        "                             activation='softmax'))"
      ],
      "execution_count": 0,
      "outputs": []
    },
    {
      "cell_type": "code",
      "metadata": {
        "id": "iuDewmBA2wEj",
        "colab_type": "code",
        "outputId": "1c412353-3d62-416d-98cd-51f0db48c3f6",
        "colab": {
          "base_uri": "https://localhost:8080/",
          "height": 323
        }
      },
      "source": [
        "model.summary()"
      ],
      "execution_count": 17,
      "outputs": [
        {
          "output_type": "stream",
          "text": [
            "Model: \"sequential_1\"\n",
            "_________________________________________________________________\n",
            "Layer (type)                 Output Shape              Param #   \n",
            "=================================================================\n",
            "dense_layer_1 (Dense)        (None, 128)               100480    \n",
            "_________________________________________________________________\n",
            "dropout_1 (Dropout)          (None, 128)               0         \n",
            "_________________________________________________________________\n",
            "dense_layer_2 (Dense)        (None, 128)               16512     \n",
            "_________________________________________________________________\n",
            "dropout_2 (Dropout)          (None, 128)               0         \n",
            "_________________________________________________________________\n",
            "dense_layer_3 (Dense)        (None, 10)                1290      \n",
            "=================================================================\n",
            "Total params: 118,282\n",
            "Trainable params: 118,282\n",
            "Non-trainable params: 0\n",
            "_________________________________________________________________\n"
          ],
          "name": "stdout"
        }
      ]
    },
    {
      "cell_type": "code",
      "metadata": {
        "id": "xTsHjREt2zXa",
        "colab_type": "code",
        "colab": {}
      },
      "source": [
        "model.compile(optimizer='Adam',\n",
        "              loss='categorical_crossentropy',\n",
        "              metrics=['accuracy'])"
      ],
      "execution_count": 0,
      "outputs": []
    },
    {
      "cell_type": "markdown",
      "metadata": {
        "id": "rtJ8J5YN2fOV",
        "colab_type": "text"
      },
      "source": [
        "## Train the Model"
      ]
    },
    {
      "cell_type": "code",
      "metadata": {
        "id": "TVmwJzq62i7Q",
        "colab_type": "code",
        "outputId": "e2ef12bd-477b-4d63-9b5d-20b858241aed",
        "colab": {
          "base_uri": "https://localhost:8080/",
          "height": 714
        }
      },
      "source": [
        "model.fit(X_train, Y_train,\n",
        "          batch_size=BATCH_SIZE,\n",
        "          epochs=EPOCHS,\n",
        "          verbose=VERBOSE,\n",
        "          validation_split=VALIDATION_SPLIT)"
      ],
      "execution_count": 19,
      "outputs": [
        {
          "output_type": "stream",
          "text": [
            "Epoch 1/20\n",
            "750/750 [==============================] - 3s 3ms/step - loss: 0.4405 - accuracy: 0.8654 - val_loss: 0.1694 - val_accuracy: 0.9489\n",
            "Epoch 2/20\n",
            "750/750 [==============================] - 2s 3ms/step - loss: 0.2109 - accuracy: 0.9359 - val_loss: 0.1266 - val_accuracy: 0.9635\n",
            "Epoch 3/20\n",
            "750/750 [==============================] - 2s 3ms/step - loss: 0.1624 - accuracy: 0.9509 - val_loss: 0.1089 - val_accuracy: 0.9658\n",
            "Epoch 4/20\n",
            "750/750 [==============================] - 2s 3ms/step - loss: 0.1406 - accuracy: 0.9572 - val_loss: 0.1031 - val_accuracy: 0.9686\n",
            "Epoch 5/20\n",
            "750/750 [==============================] - 2s 3ms/step - loss: 0.1209 - accuracy: 0.9626 - val_loss: 0.0936 - val_accuracy: 0.9718\n",
            "Epoch 6/20\n",
            "750/750 [==============================] - 2s 3ms/step - loss: 0.1093 - accuracy: 0.9671 - val_loss: 0.0946 - val_accuracy: 0.9715\n",
            "Epoch 7/20\n",
            "750/750 [==============================] - 3s 3ms/step - loss: 0.1003 - accuracy: 0.9682 - val_loss: 0.0837 - val_accuracy: 0.9741\n",
            "Epoch 8/20\n",
            "750/750 [==============================] - 2s 3ms/step - loss: 0.0933 - accuracy: 0.9702 - val_loss: 0.0793 - val_accuracy: 0.9765\n",
            "Epoch 9/20\n",
            "750/750 [==============================] - 3s 3ms/step - loss: 0.0877 - accuracy: 0.9722 - val_loss: 0.0866 - val_accuracy: 0.9753\n",
            "Epoch 10/20\n",
            "750/750 [==============================] - 2s 3ms/step - loss: 0.0799 - accuracy: 0.9741 - val_loss: 0.0804 - val_accuracy: 0.9774\n",
            "Epoch 11/20\n",
            "750/750 [==============================] - 3s 3ms/step - loss: 0.0755 - accuracy: 0.9759 - val_loss: 0.0837 - val_accuracy: 0.9771\n",
            "Epoch 12/20\n",
            "750/750 [==============================] - 3s 3ms/step - loss: 0.0721 - accuracy: 0.9769 - val_loss: 0.0857 - val_accuracy: 0.9767\n",
            "Epoch 13/20\n",
            "750/750 [==============================] - 2s 3ms/step - loss: 0.0739 - accuracy: 0.9764 - val_loss: 0.0792 - val_accuracy: 0.9779\n",
            "Epoch 14/20\n",
            "750/750 [==============================] - 3s 4ms/step - loss: 0.0684 - accuracy: 0.9781 - val_loss: 0.0885 - val_accuracy: 0.9770\n",
            "Epoch 15/20\n",
            "750/750 [==============================] - 3s 4ms/step - loss: 0.0660 - accuracy: 0.9786 - val_loss: 0.0858 - val_accuracy: 0.9767\n",
            "Epoch 16/20\n",
            "750/750 [==============================] - 3s 4ms/step - loss: 0.0636 - accuracy: 0.9790 - val_loss: 0.0807 - val_accuracy: 0.9770\n",
            "Epoch 17/20\n",
            "750/750 [==============================] - 3s 4ms/step - loss: 0.0628 - accuracy: 0.9801 - val_loss: 0.0833 - val_accuracy: 0.9779\n",
            "Epoch 18/20\n",
            "750/750 [==============================] - 3s 4ms/step - loss: 0.0569 - accuracy: 0.9817 - val_loss: 0.0844 - val_accuracy: 0.9779\n",
            "Epoch 19/20\n",
            "750/750 [==============================] - 3s 4ms/step - loss: 0.0578 - accuracy: 0.9810 - val_loss: 0.0846 - val_accuracy: 0.9782\n",
            "Epoch 20/20\n",
            "750/750 [==============================] - 3s 4ms/step - loss: 0.0559 - accuracy: 0.9820 - val_loss: 0.0842 - val_accuracy: 0.9783\n"
          ],
          "name": "stdout"
        },
        {
          "output_type": "execute_result",
          "data": {
            "text/plain": [
              "<tensorflow.python.keras.callbacks.History at 0x7f21d3189828>"
            ]
          },
          "metadata": {
            "tags": []
          },
          "execution_count": 19
        }
      ]
    },
    {
      "cell_type": "markdown",
      "metadata": {
        "id": "_kCDS3vE7vqk",
        "colab_type": "text"
      },
      "source": [
        "## Evaluate the Model"
      ]
    },
    {
      "cell_type": "code",
      "metadata": {
        "id": "h2PeKzo27y6s",
        "colab_type": "code",
        "outputId": "a0dc0622-e567-4f99-c144-051f76ac82a4",
        "colab": {
          "base_uri": "https://localhost:8080/",
          "height": 51
        }
      },
      "source": [
        "test_loss, test_acc = model.evaluate(X_test, Y_test)\n",
        "print('Test Accuracy: {}'.format(test_acc))"
      ],
      "execution_count": 20,
      "outputs": [
        {
          "output_type": "stream",
          "text": [
            "313/313 [==============================] - 0s 1ms/step - loss: 0.0758 - accuracy: 0.9801\n",
            "Test Accuracy: 0.9800999760627747\n"
          ],
          "name": "stdout"
        }
      ]
    }
  ]
}