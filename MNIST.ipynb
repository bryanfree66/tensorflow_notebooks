{
  "nbformat": 4,
  "nbformat_minor": 0,
  "metadata": {
    "colab": {
      "name": "MNIST.ipynb",
      "provenance": [],
      "collapsed_sections": [],
      "authorship_tag": "ABX9TyNsuuSBECXeGWKRGlopaE7K",
      "include_colab_link": true
    },
    "kernelspec": {
      "name": "python3",
      "display_name": "Python 3"
    }
  },
  "cells": [
    {
      "cell_type": "markdown",
      "metadata": {
        "id": "view-in-github",
        "colab_type": "text"
      },
      "source": [
        "<a href=\"https://colab.research.google.com/github/bryanfree66/tensorflow_notebooks/blob/master/MNIST.ipynb\" target=\"_parent\"><img src=\"https://colab.research.google.com/assets/colab-badge.svg\" alt=\"Open In Colab\"/></a>"
      ]
    },
    {
      "cell_type": "markdown",
      "metadata": {
        "id": "qtVzXvHjbR_u",
        "colab_type": "text"
      },
      "source": [
        "# MNIST Sample"
      ]
    },
    {
      "cell_type": "code",
      "metadata": {
        "id": "Cun_PuhiZtoP",
        "colab_type": "code",
        "colab": {}
      },
      "source": [
        "import tensorflow as tf\n",
        "import numpy as np\n",
        "from tensorflow import keras"
      ],
      "execution_count": 0,
      "outputs": []
    },
    {
      "cell_type": "markdown",
      "metadata": {
        "id": "OaMsXJJkbAOt",
        "colab_type": "text"
      },
      "source": [
        "## Load the Data "
      ]
    },
    {
      "cell_type": "code",
      "metadata": {
        "id": "Y7Jk4Jx6aqFm",
        "colab_type": "code",
        "colab": {}
      },
      "source": [
        "EPOCHS = 50\n",
        "BATCH_SIZE = 128\n",
        "VERBOSE = 1\n",
        "NB_CLASSES = 10\n",
        "N_HIDDEN = 128\n",
        "VALIDATION_SPLIT = 0.2\n",
        "RESHAPED = 784"
      ],
      "execution_count": 0,
      "outputs": []
    },
    {
      "cell_type": "code",
      "metadata": {
        "id": "YDmN1SK26wDc",
        "colab_type": "code",
        "colab": {}
      },
      "source": [
        "mnist = keras.datasets.mnist\n",
        "(X_train, Y_train), (X_test, Y_test) = mnist.load_data()"
      ],
      "execution_count": 0,
      "outputs": []
    },
    {
      "cell_type": "code",
      "metadata": {
        "id": "WcdwEzCp7sOU",
        "colab_type": "code",
        "colab": {}
      },
      "source": [
        ""
      ],
      "execution_count": 0,
      "outputs": []
    },
    {
      "cell_type": "code",
      "metadata": {
        "id": "YGW5R5Vjb_0Y",
        "colab_type": "code",
        "outputId": "c89c0bf5-d31e-4cb2-ab19-62cf1e54fb88",
        "colab": {
          "base_uri": "https://localhost:8080/",
          "height": 51
        }
      },
      "source": [
        "X_train = X_train.reshape(60000, RESHAPED)\n",
        "X_test = X_test.reshape(10000, RESHAPED)\n",
        "X_train = X_train.astype('float32')\n",
        "X_test = X_test.astype('float32')\n",
        "X_train /= 255\n",
        "X_test /= 255\n",
        "print('X_train shape: {}'.format(X_train.shape[0]))\n",
        "print('X_test shape: {}'.format(X_test.shape[0]))\n"
      ],
      "execution_count": 18,
      "outputs": [
        {
          "output_type": "stream",
          "text": [
            "X_train shape: 60000\n",
            "X_test shape: 10000\n"
          ],
          "name": "stdout"
        }
      ]
    },
    {
      "cell_type": "code",
      "metadata": {
        "id": "wbLYuA7Jdhrv",
        "colab_type": "code",
        "colab": {}
      },
      "source": [
        "Y_train = tf.keras.utils.to_categorical(Y_train, NB_CLASSES)\n",
        "Y_test = tf.keras.utils.to_categorical(Y_test, NB_CLASSES)"
      ],
      "execution_count": 0,
      "outputs": []
    },
    {
      "cell_type": "markdown",
      "metadata": {
        "id": "MySS3EWOxnbe",
        "colab_type": "text"
      },
      "source": [
        "## Build the Model"
      ]
    },
    {
      "cell_type": "code",
      "metadata": {
        "id": "S1xfuPZLxrG-",
        "colab_type": "code",
        "colab": {}
      },
      "source": [
        "model = tf.keras.models.Sequential()\n",
        "model.add(keras.layers.Dense(NB_CLASSES, \n",
        "                             input_shape=(RESHAPED,),\n",
        "                             name='dense_layer_1',\n",
        "                             activation='relu'))\n",
        "model.add(keras.layers.Dense(N_HIDDEN,\n",
        "                             name='dense_layer_2',\n",
        "                             activation='relu'))\n",
        "model.add(keras.layers.Dense(NB_CLASSES,\n",
        "                             name='dense_layer_3',\n",
        "                             activation='softmax'))"
      ],
      "execution_count": 0,
      "outputs": []
    },
    {
      "cell_type": "code",
      "metadata": {
        "id": "iuDewmBA2wEj",
        "colab_type": "code",
        "colab": {
          "base_uri": "https://localhost:8080/",
          "height": 255
        },
        "outputId": "8f75b150-0cf0-45e9-f9aa-e4116588cc28"
      },
      "source": [
        "model.summary()"
      ],
      "execution_count": 21,
      "outputs": [
        {
          "output_type": "stream",
          "text": [
            "Model: \"sequential_1\"\n",
            "_________________________________________________________________\n",
            "Layer (type)                 Output Shape              Param #   \n",
            "=================================================================\n",
            "dense_layer_1 (Dense)        (None, 10)                7850      \n",
            "_________________________________________________________________\n",
            "dense_layer_2 (Dense)        (None, 128)               1408      \n",
            "_________________________________________________________________\n",
            "dense_layer_3 (Dense)        (None, 10)                1290      \n",
            "=================================================================\n",
            "Total params: 10,548\n",
            "Trainable params: 10,548\n",
            "Non-trainable params: 0\n",
            "_________________________________________________________________\n"
          ],
          "name": "stdout"
        }
      ]
    },
    {
      "cell_type": "code",
      "metadata": {
        "id": "xTsHjREt2zXa",
        "colab_type": "code",
        "colab": {}
      },
      "source": [
        "model.compile(optimizer='SGD',\n",
        "              loss='categorical_crossentropy',\n",
        "              metrics=['accuracy'])"
      ],
      "execution_count": 0,
      "outputs": []
    },
    {
      "cell_type": "markdown",
      "metadata": {
        "id": "rtJ8J5YN2fOV",
        "colab_type": "text"
      },
      "source": [
        "## Train the Model"
      ]
    },
    {
      "cell_type": "code",
      "metadata": {
        "id": "TVmwJzq62i7Q",
        "colab_type": "code",
        "outputId": "12ede1e8-a6a3-4cc2-d2c8-40199db9e3b5",
        "colab": {
          "base_uri": "https://localhost:8080/",
          "height": 1000
        }
      },
      "source": [
        "model.fit(X_train, Y_train,\n",
        "          batch_size=BATCH_SIZE,\n",
        "          epochs=EPOCHS,\n",
        "          verbose=VERBOSE,\n",
        "          validation_split=VALIDATION_SPLIT)"
      ],
      "execution_count": 23,
      "outputs": [
        {
          "output_type": "stream",
          "text": [
            "Epoch 1/50\n",
            "375/375 [==============================] - 1s 3ms/step - loss: 2.0538 - accuracy: 0.3500 - val_loss: 1.5763 - val_accuracy: 0.6124\n",
            "Epoch 2/50\n",
            "375/375 [==============================] - 1s 2ms/step - loss: 1.0975 - accuracy: 0.7057 - val_loss: 0.7414 - val_accuracy: 0.7997\n",
            "Epoch 3/50\n",
            "375/375 [==============================] - 1s 2ms/step - loss: 0.6497 - accuracy: 0.8134 - val_loss: 0.5252 - val_accuracy: 0.8542\n",
            "Epoch 4/50\n",
            "375/375 [==============================] - 1s 2ms/step - loss: 0.5054 - accuracy: 0.8555 - val_loss: 0.4348 - val_accuracy: 0.8781\n",
            "Epoch 5/50\n",
            "375/375 [==============================] - 1s 2ms/step - loss: 0.4342 - accuracy: 0.8760 - val_loss: 0.3841 - val_accuracy: 0.8903\n",
            "Epoch 6/50\n",
            "375/375 [==============================] - 1s 3ms/step - loss: 0.3923 - accuracy: 0.8865 - val_loss: 0.3521 - val_accuracy: 0.9003\n",
            "Epoch 7/50\n",
            "375/375 [==============================] - 1s 2ms/step - loss: 0.3655 - accuracy: 0.8955 - val_loss: 0.3328 - val_accuracy: 0.9066\n",
            "Epoch 8/50\n",
            "375/375 [==============================] - 1s 2ms/step - loss: 0.3469 - accuracy: 0.8996 - val_loss: 0.3190 - val_accuracy: 0.9092\n",
            "Epoch 9/50\n",
            "375/375 [==============================] - 1s 2ms/step - loss: 0.3324 - accuracy: 0.9039 - val_loss: 0.3087 - val_accuracy: 0.9136\n",
            "Epoch 10/50\n",
            "375/375 [==============================] - 1s 2ms/step - loss: 0.3207 - accuracy: 0.9075 - val_loss: 0.2982 - val_accuracy: 0.9154\n",
            "Epoch 11/50\n",
            "375/375 [==============================] - 1s 2ms/step - loss: 0.3112 - accuracy: 0.9101 - val_loss: 0.2900 - val_accuracy: 0.9185\n",
            "Epoch 12/50\n",
            "375/375 [==============================] - 1s 3ms/step - loss: 0.3024 - accuracy: 0.9129 - val_loss: 0.2837 - val_accuracy: 0.9192\n",
            "Epoch 13/50\n",
            "375/375 [==============================] - 1s 2ms/step - loss: 0.2953 - accuracy: 0.9149 - val_loss: 0.2791 - val_accuracy: 0.9202\n",
            "Epoch 14/50\n",
            "375/375 [==============================] - 1s 2ms/step - loss: 0.2892 - accuracy: 0.9169 - val_loss: 0.2718 - val_accuracy: 0.9237\n",
            "Epoch 15/50\n",
            "375/375 [==============================] - 1s 2ms/step - loss: 0.2834 - accuracy: 0.9188 - val_loss: 0.2680 - val_accuracy: 0.9239\n",
            "Epoch 16/50\n",
            "375/375 [==============================] - 1s 2ms/step - loss: 0.2784 - accuracy: 0.9204 - val_loss: 0.2635 - val_accuracy: 0.9247\n",
            "Epoch 17/50\n",
            "375/375 [==============================] - 1s 2ms/step - loss: 0.2734 - accuracy: 0.9212 - val_loss: 0.2591 - val_accuracy: 0.9261\n",
            "Epoch 18/50\n",
            "375/375 [==============================] - 1s 2ms/step - loss: 0.2692 - accuracy: 0.9228 - val_loss: 0.2574 - val_accuracy: 0.9267\n",
            "Epoch 19/50\n",
            "375/375 [==============================] - 1s 2ms/step - loss: 0.2653 - accuracy: 0.9241 - val_loss: 0.2534 - val_accuracy: 0.9287\n",
            "Epoch 20/50\n",
            "375/375 [==============================] - 1s 3ms/step - loss: 0.2616 - accuracy: 0.9248 - val_loss: 0.2501 - val_accuracy: 0.9281\n",
            "Epoch 21/50\n",
            "375/375 [==============================] - 1s 2ms/step - loss: 0.2581 - accuracy: 0.9258 - val_loss: 0.2466 - val_accuracy: 0.9301\n",
            "Epoch 22/50\n",
            "375/375 [==============================] - 1s 3ms/step - loss: 0.2550 - accuracy: 0.9263 - val_loss: 0.2446 - val_accuracy: 0.9308\n",
            "Epoch 23/50\n",
            "375/375 [==============================] - 1s 3ms/step - loss: 0.2522 - accuracy: 0.9268 - val_loss: 0.2433 - val_accuracy: 0.9293\n",
            "Epoch 24/50\n",
            "375/375 [==============================] - 1s 2ms/step - loss: 0.2490 - accuracy: 0.9282 - val_loss: 0.2398 - val_accuracy: 0.9317\n",
            "Epoch 25/50\n",
            "375/375 [==============================] - 1s 2ms/step - loss: 0.2463 - accuracy: 0.9284 - val_loss: 0.2378 - val_accuracy: 0.9319\n",
            "Epoch 26/50\n",
            "375/375 [==============================] - 1s 2ms/step - loss: 0.2438 - accuracy: 0.9296 - val_loss: 0.2363 - val_accuracy: 0.9323\n",
            "Epoch 27/50\n",
            "375/375 [==============================] - 1s 2ms/step - loss: 0.2411 - accuracy: 0.9304 - val_loss: 0.2357 - val_accuracy: 0.9327\n",
            "Epoch 28/50\n",
            "375/375 [==============================] - 1s 3ms/step - loss: 0.2385 - accuracy: 0.9311 - val_loss: 0.2329 - val_accuracy: 0.9327\n",
            "Epoch 29/50\n",
            "375/375 [==============================] - 1s 2ms/step - loss: 0.2367 - accuracy: 0.9319 - val_loss: 0.2312 - val_accuracy: 0.9336\n",
            "Epoch 30/50\n",
            "375/375 [==============================] - 1s 3ms/step - loss: 0.2341 - accuracy: 0.9323 - val_loss: 0.2305 - val_accuracy: 0.9346\n",
            "Epoch 31/50\n",
            "375/375 [==============================] - 1s 2ms/step - loss: 0.2320 - accuracy: 0.9334 - val_loss: 0.2282 - val_accuracy: 0.9347\n",
            "Epoch 32/50\n",
            "375/375 [==============================] - 1s 2ms/step - loss: 0.2301 - accuracy: 0.9331 - val_loss: 0.2282 - val_accuracy: 0.9351\n",
            "Epoch 33/50\n",
            "375/375 [==============================] - 1s 2ms/step - loss: 0.2280 - accuracy: 0.9340 - val_loss: 0.2252 - val_accuracy: 0.9348\n",
            "Epoch 34/50\n",
            "375/375 [==============================] - 1s 3ms/step - loss: 0.2260 - accuracy: 0.9345 - val_loss: 0.2247 - val_accuracy: 0.9352\n",
            "Epoch 35/50\n",
            "375/375 [==============================] - 1s 2ms/step - loss: 0.2240 - accuracy: 0.9352 - val_loss: 0.2228 - val_accuracy: 0.9368\n",
            "Epoch 36/50\n",
            "375/375 [==============================] - 1s 2ms/step - loss: 0.2224 - accuracy: 0.9357 - val_loss: 0.2234 - val_accuracy: 0.9355\n",
            "Epoch 37/50\n",
            "375/375 [==============================] - 1s 2ms/step - loss: 0.2208 - accuracy: 0.9360 - val_loss: 0.2205 - val_accuracy: 0.9373\n",
            "Epoch 38/50\n",
            "375/375 [==============================] - 1s 2ms/step - loss: 0.2191 - accuracy: 0.9360 - val_loss: 0.2199 - val_accuracy: 0.9380\n",
            "Epoch 39/50\n",
            "375/375 [==============================] - 1s 2ms/step - loss: 0.2174 - accuracy: 0.9368 - val_loss: 0.2201 - val_accuracy: 0.9376\n",
            "Epoch 40/50\n",
            "375/375 [==============================] - 1s 3ms/step - loss: 0.2159 - accuracy: 0.9375 - val_loss: 0.2176 - val_accuracy: 0.9383\n",
            "Epoch 41/50\n",
            "375/375 [==============================] - 1s 3ms/step - loss: 0.2144 - accuracy: 0.9380 - val_loss: 0.2170 - val_accuracy: 0.9377\n",
            "Epoch 42/50\n",
            "375/375 [==============================] - 1s 2ms/step - loss: 0.2130 - accuracy: 0.9384 - val_loss: 0.2157 - val_accuracy: 0.9377\n",
            "Epoch 43/50\n",
            "375/375 [==============================] - 1s 2ms/step - loss: 0.2115 - accuracy: 0.9388 - val_loss: 0.2158 - val_accuracy: 0.9380\n",
            "Epoch 44/50\n",
            "375/375 [==============================] - 1s 2ms/step - loss: 0.2100 - accuracy: 0.9391 - val_loss: 0.2155 - val_accuracy: 0.9379\n",
            "Epoch 45/50\n",
            "375/375 [==============================] - 1s 3ms/step - loss: 0.2089 - accuracy: 0.9389 - val_loss: 0.2145 - val_accuracy: 0.9379\n",
            "Epoch 46/50\n",
            "375/375 [==============================] - 1s 2ms/step - loss: 0.2074 - accuracy: 0.9393 - val_loss: 0.2123 - val_accuracy: 0.9389\n",
            "Epoch 47/50\n",
            "375/375 [==============================] - 1s 2ms/step - loss: 0.2062 - accuracy: 0.9406 - val_loss: 0.2115 - val_accuracy: 0.9390\n",
            "Epoch 48/50\n",
            "375/375 [==============================] - 1s 2ms/step - loss: 0.2050 - accuracy: 0.9407 - val_loss: 0.2114 - val_accuracy: 0.9387\n",
            "Epoch 49/50\n",
            "375/375 [==============================] - 1s 3ms/step - loss: 0.2035 - accuracy: 0.9412 - val_loss: 0.2097 - val_accuracy: 0.9399\n",
            "Epoch 50/50\n",
            "375/375 [==============================] - 1s 3ms/step - loss: 0.2025 - accuracy: 0.9414 - val_loss: 0.2081 - val_accuracy: 0.9399\n"
          ],
          "name": "stdout"
        },
        {
          "output_type": "execute_result",
          "data": {
            "text/plain": [
              "<tensorflow.python.keras.callbacks.History at 0x7fa4431e48d0>"
            ]
          },
          "metadata": {
            "tags": []
          },
          "execution_count": 23
        }
      ]
    },
    {
      "cell_type": "markdown",
      "metadata": {
        "id": "_kCDS3vE7vqk",
        "colab_type": "text"
      },
      "source": [
        "## Evaluate the Model"
      ]
    },
    {
      "cell_type": "code",
      "metadata": {
        "id": "h2PeKzo27y6s",
        "colab_type": "code",
        "outputId": "a4e2076e-ec0b-409e-bdb4-e67be1236c27",
        "colab": {
          "base_uri": "https://localhost:8080/",
          "height": 51
        }
      },
      "source": [
        "test_loss, test_acc = model.evaluate(X_test, Y_test)\n",
        "print('Test Accuracy: {}'.format(test_acc))"
      ],
      "execution_count": 24,
      "outputs": [
        {
          "output_type": "stream",
          "text": [
            "313/313 [==============================] - 0s 1ms/step - loss: 0.2141 - accuracy: 0.9386\n",
            "Test Accuracy: 0.9386000037193298\n"
          ],
          "name": "stdout"
        }
      ]
    }
  ]
}