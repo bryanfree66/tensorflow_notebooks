{
  "nbformat": 4,
  "nbformat_minor": 0,
  "metadata": {
    "colab": {
      "name": "IMDB-Sentiment.ipynb",
      "provenance": [],
      "collapsed_sections": [],
      "authorship_tag": "ABX9TyMrxDjwgM/2Y6/Z8hVhLk7G",
      "include_colab_link": true
    },
    "kernelspec": {
      "name": "python3",
      "display_name": "Python 3"
    }
  },
  "cells": [
    {
      "cell_type": "markdown",
      "metadata": {
        "id": "view-in-github",
        "colab_type": "text"
      },
      "source": [
        "<a href=\"https://colab.research.google.com/github/bryanfree66/tensorflow_notebooks/blob/master/IMDB_Sentiment.ipynb\" target=\"_parent\"><img src=\"https://colab.research.google.com/assets/colab-badge.svg\" alt=\"Open In Colab\"/></a>"
      ]
    },
    {
      "cell_type": "markdown",
      "metadata": {
        "id": "JRdEFnflhNcN",
        "colab_type": "text"
      },
      "source": [
        "# Sentiment Analysis - IMDB\n",
        "## Predict the Binary Judgement Given the Text"
      ]
    },
    {
      "cell_type": "code",
      "metadata": {
        "id": "cRpP21OhhPF3",
        "colab_type": "code",
        "colab": {}
      },
      "source": [
        "import tensorflow as tf\n",
        "from tensorflow.keras import datasets, layers, models, preprocessing\n",
        "import tensorflow_datasets as tfds"
      ],
      "execution_count": 0,
      "outputs": []
    },
    {
      "cell_type": "code",
      "metadata": {
        "id": "2dMqH-Trhwp6",
        "colab_type": "code",
        "colab": {}
      },
      "source": [
        "max_len = 200\n",
        "n_words = 10000\n",
        "dim_embedding = 256\n",
        "EPOCHS = 20\n",
        "BATCH_SIZE = 500"
      ],
      "execution_count": 0,
      "outputs": []
    },
    {
      "cell_type": "markdown",
      "metadata": {
        "id": "Oe2vw3rXiBY-",
        "colab_type": "text"
      },
      "source": [
        "## Load the Data"
      ]
    },
    {
      "cell_type": "code",
      "metadata": {
        "id": "7QVshg3tiEsR",
        "colab_type": "code",
        "colab": {}
      },
      "source": [
        "def load_data():\n",
        "  (X_train, y_train), (X_test, y_test) = datasets.imdb.load_data(num_words=n_words)\n",
        "  X_train = preprocessing.sequence.pad_sequences(X_train,\n",
        "                                                 maxlen=max_len)\n",
        "  X_test = preprocessing.sequence.pad_sequences(X_test,\n",
        "                                                maxlen=max_len)\n",
        "  return(X_train, y_train), (X_test, y_test)"
      ],
      "execution_count": 0,
      "outputs": []
    },
    {
      "cell_type": "markdown",
      "metadata": {
        "id": "m78Bm-LijNs_",
        "colab_type": "text"
      },
      "source": [
        "## Build the Model"
      ]
    },
    {
      "cell_type": "code",
      "metadata": {
        "id": "-SlG03M4jKzL",
        "colab_type": "code",
        "colab": {}
      },
      "source": [
        "def build_model():\n",
        "  model = models.Sequential()\n",
        "  # Input: - Embedding layer\n",
        "  # The model will take as input an interger matrix of size (batch, input_length)\n",
        "  # The model will output (input_length, dim_embedding)\n",
        "  # The largest integer in the input should be no larger than n_words\n",
        "  model.add(layers.Embedding(n_words,\n",
        "                             dim_embedding,\n",
        "                             input_length=max_len))\n",
        "  model.add(layers.Dropout(0.3))\n",
        "  model.add(layers.GlobalMaxPooling1D())\n",
        "  model.add(layers.Dense(128,\n",
        "                         activation='relu'))\n",
        "  model.add(layers.Dropout(0.5))\n",
        "  model.add(layers.Dense(1,\n",
        "                         activation='sigmoid'))\n",
        "  return model"
      ],
      "execution_count": 0,
      "outputs": []
    },
    {
      "cell_type": "markdown",
      "metadata": {
        "id": "-ZQvXld_lhFF",
        "colab_type": "text"
      },
      "source": [
        "## Train the Model"
      ]
    },
    {
      "cell_type": "code",
      "metadata": {
        "id": "TvhcVfaYlkAb",
        "colab_type": "code",
        "colab": {
          "base_uri": "https://localhost:8080/",
          "height": 357
        },
        "outputId": "6c46ee52-ba18-4de9-df64-22d6b17be909"
      },
      "source": [
        "(X_train, y_train), (X_test, y_test) = load_data()\n",
        "model = build_model()\n",
        "model.summary()"
      ],
      "execution_count": 25,
      "outputs": [
        {
          "output_type": "stream",
          "text": [
            "Model: \"sequential_3\"\n",
            "_________________________________________________________________\n",
            "Layer (type)                 Output Shape              Param #   \n",
            "=================================================================\n",
            "embedding_2 (Embedding)      (None, 200, 256)          2560000   \n",
            "_________________________________________________________________\n",
            "dropout_4 (Dropout)          (None, 200, 256)          0         \n",
            "_________________________________________________________________\n",
            "global_max_pooling1d_2 (Glob (None, 256)               0         \n",
            "_________________________________________________________________\n",
            "dense_4 (Dense)              (None, 128)               32896     \n",
            "_________________________________________________________________\n",
            "dropout_5 (Dropout)          (None, 128)               0         \n",
            "_________________________________________________________________\n",
            "dense_5 (Dense)              (None, 1)                 129       \n",
            "=================================================================\n",
            "Total params: 2,593,025\n",
            "Trainable params: 2,593,025\n",
            "Non-trainable params: 0\n",
            "_________________________________________________________________\n"
          ],
          "name": "stdout"
        }
      ]
    },
    {
      "cell_type": "code",
      "metadata": {
        "id": "L-mp1_j7mPVT",
        "colab_type": "code",
        "colab": {}
      },
      "source": [
        "model.compile(optimizer='adam',\n",
        "              loss='binary_crossentropy',\n",
        "              metrics=['accuracy'])"
      ],
      "execution_count": 0,
      "outputs": []
    },
    {
      "cell_type": "code",
      "metadata": {
        "id": "wK0tCnY8mtVB",
        "colab_type": "code",
        "colab": {
          "base_uri": "https://localhost:8080/",
          "height": 697
        },
        "outputId": "f22892d9-7891-4691-f7bb-f49b5ad2d158"
      },
      "source": [
        "score = model.fit(X_train, y_train,\n",
        "                  epochs=EPOCHS,\n",
        "                  batch_size=BATCH_SIZE,\n",
        "                  validation_data=(X_test, y_test))"
      ],
      "execution_count": 27,
      "outputs": [
        {
          "output_type": "stream",
          "text": [
            "Epoch 1/20\n",
            "50/50 [==============================] - 23s 457ms/step - loss: 0.6725 - accuracy: 0.6139 - val_loss: 0.6295 - val_accuracy: 0.7958\n",
            "Epoch 2/20\n",
            "50/50 [==============================] - 23s 455ms/step - loss: 0.4584 - accuracy: 0.8361 - val_loss: 0.3676 - val_accuracy: 0.8520\n",
            "Epoch 3/20\n",
            "50/50 [==============================] - 23s 457ms/step - loss: 0.2838 - accuracy: 0.8854 - val_loss: 0.3081 - val_accuracy: 0.8728\n",
            "Epoch 4/20\n",
            "50/50 [==============================] - 23s 455ms/step - loss: 0.2177 - accuracy: 0.9156 - val_loss: 0.2934 - val_accuracy: 0.8766\n",
            "Epoch 5/20\n",
            "50/50 [==============================] - 23s 456ms/step - loss: 0.1717 - accuracy: 0.9376 - val_loss: 0.2933 - val_accuracy: 0.8748\n",
            "Epoch 6/20\n",
            "50/50 [==============================] - 23s 456ms/step - loss: 0.1346 - accuracy: 0.9530 - val_loss: 0.2952 - val_accuracy: 0.8740\n",
            "Epoch 7/20\n",
            "50/50 [==============================] - 23s 454ms/step - loss: 0.1036 - accuracy: 0.9675 - val_loss: 0.3118 - val_accuracy: 0.8672\n",
            "Epoch 8/20\n",
            "50/50 [==============================] - 23s 455ms/step - loss: 0.0788 - accuracy: 0.9770 - val_loss: 0.3191 - val_accuracy: 0.8663\n",
            "Epoch 9/20\n",
            "50/50 [==============================] - 23s 455ms/step - loss: 0.0604 - accuracy: 0.9840 - val_loss: 0.3346 - val_accuracy: 0.8627\n",
            "Epoch 10/20\n",
            "50/50 [==============================] - 23s 454ms/step - loss: 0.0452 - accuracy: 0.9893 - val_loss: 0.3518 - val_accuracy: 0.8596\n",
            "Epoch 11/20\n",
            "50/50 [==============================] - 23s 454ms/step - loss: 0.0351 - accuracy: 0.9914 - val_loss: 0.3685 - val_accuracy: 0.8583\n",
            "Epoch 12/20\n",
            "50/50 [==============================] - 23s 455ms/step - loss: 0.0269 - accuracy: 0.9938 - val_loss: 0.3836 - val_accuracy: 0.8574\n",
            "Epoch 13/20\n",
            "50/50 [==============================] - 23s 455ms/step - loss: 0.0202 - accuracy: 0.9969 - val_loss: 0.4021 - val_accuracy: 0.8553\n",
            "Epoch 14/20\n",
            "50/50 [==============================] - 23s 454ms/step - loss: 0.0159 - accuracy: 0.9975 - val_loss: 0.4221 - val_accuracy: 0.8533\n",
            "Epoch 15/20\n",
            "50/50 [==============================] - 23s 457ms/step - loss: 0.0132 - accuracy: 0.9980 - val_loss: 0.4434 - val_accuracy: 0.8500\n",
            "Epoch 16/20\n",
            "50/50 [==============================] - 23s 457ms/step - loss: 0.0118 - accuracy: 0.9980 - val_loss: 0.4556 - val_accuracy: 0.8495\n",
            "Epoch 17/20\n",
            "50/50 [==============================] - 23s 455ms/step - loss: 0.0088 - accuracy: 0.9989 - val_loss: 0.4630 - val_accuracy: 0.8504\n",
            "Epoch 18/20\n",
            "50/50 [==============================] - 23s 456ms/step - loss: 0.0079 - accuracy: 0.9987 - val_loss: 0.4763 - val_accuracy: 0.8487\n",
            "Epoch 19/20\n",
            "50/50 [==============================] - 23s 455ms/step - loss: 0.0066 - accuracy: 0.9991 - val_loss: 0.4894 - val_accuracy: 0.8489\n",
            "Epoch 20/20\n",
            "50/50 [==============================] - 23s 455ms/step - loss: 0.0060 - accuracy: 0.9992 - val_loss: 0.5035 - val_accuracy: 0.8485\n"
          ],
          "name": "stdout"
        }
      ]
    },
    {
      "cell_type": "code",
      "metadata": {
        "id": "kRi2WUg9nCWK",
        "colab_type": "code",
        "colab": {
          "base_uri": "https://localhost:8080/",
          "height": 85
        },
        "outputId": "8f2a5368-e2ed-4166-b19e-a4b79236be99"
      },
      "source": [
        "score = model.evaluate(X_test, y_test,\n",
        "                       batch_size=BATCH_SIZE)\n",
        "print('Test score: {}\\n'.format(score[0]))\n",
        "print('Test accuracy: {}'.format(score[1]))"
      ],
      "execution_count": 28,
      "outputs": [
        {
          "output_type": "stream",
          "text": [
            "50/50 [==============================] - 2s 41ms/step - loss: 0.5035 - accuracy: 0.8485\n",
            "Test score: 0.5034577250480652\n",
            "\n",
            "Test accuracy: 0.8484799861907959\n"
          ],
          "name": "stdout"
        }
      ]
    }
  ]
}